{
 "cells": [
  {
   "cell_type": "markdown",
   "metadata": {},
   "source": [
    "<figure>\n",
    "  <IMG SRC=\"https://raw.githubusercontent.com/mbakker7/exploratory_computing_with_python/master/tudelft_logo.png\" WIDTH=25% ALIGN=\"right\">\n",
    "</figure>\n",
    "\n",
    "<p><div> \n",
    "<br><b>Probabilistic Design</b>\n",
    "<br><b>CEGM2XXX</b>\n",
    "<br> <i>This course is given at the faculty of Civil Engineering and Geosciences at the Technical University of Delft</i>\n",
    "<br><b>Teaching team:</b>\n",
    "<br><i>- Dr. Ir. R.C.Lanzafame </i>\n",
    "<br><i>- Dr. P.M. Nasarre</i>\n",
    "</div>\n",
    "<br>\n",
    "<br><b>Notebooks created by teaching assistant:</b>\n",
    "<br><i>- Siemen Algra</i>\n",
    "</div>"
   ]
  },
  {
   "cell_type": "markdown",
   "metadata": {},
   "source": [
    "### Case study: Component Reliability Analysis, Probabilistic part\n",
    "**Floating and submerged tunnel, crossing the strait of Gibraltar**"
   ]
  },
  {
   "cell_type": "code",
   "execution_count": null,
   "metadata": {},
   "outputs": [],
   "source": [
    "import numpy as np\n",
    "import matplotlib.pyplot as plt\n",
    "import matplotlib.cm as cm\n",
    "from scipy.optimize import fsolve # for plotting the LSF\n",
    "\n",
    "import openturns as ot\n",
    "import openturns.viewer as viewer\n",
    "ot.Log.Show(ot.Log.NONE)\n",
    "\n",
    "import numpy as np\n",
    "import scipy.linalg as scp\n",
    "import matplotlib.pylab as plt\n",
    "import time\n",
    "\n",
    "import sympy as sp\n",
    "import scipy\n",
    "\n",
    "from matplotlib.pylab import rcParams\n",
    "rcParams['figure.figsize'] = 15, 6"
   ]
  },
  {
   "cell_type": "markdown",
   "metadata": {},
   "source": [
    "### Load FEM model and Morrisson equation in"
   ]
  },
  {
   "cell_type": "code",
   "execution_count": null,
   "metadata": {},
   "outputs": [],
   "source": [
    "# Import local classes\n",
    "import sys\n",
    "# sys.path.append(r'../../src/')\n",
    "\n",
    "# Obtain function that calculates the stress\n",
    "import FEM\n",
    "import Morrisson_forces"
   ]
  },
  {
   "cell_type": "markdown",
   "metadata": {},
   "source": [
    "### 1. Determine statistical properties of Random Variables"
   ]
  },
  {
   "cell_type": "code",
   "execution_count": null,
   "metadata": {},
   "outputs": [],
   "source": [
    "# Determine the random variables using openturns\n",
    "X1 = ot.Exponential(2.0309)   # Significant wave height, swell waves\n",
    "X2 = ot.Exponential(2.0663)   # Significant wave height, wind sea waves\n",
    "X3 = ot.Normal(2, 0.2)        # Velocity of current"
   ]
  },
  {
   "cell_type": "code",
   "execution_count": null,
   "metadata": {},
   "outputs": [],
   "source": [
    "# # Plot pdf of X1\n",
    "# X1_pdf = X1.drawPDF()\n",
    "# # Plot the PDF (Probability Density Function) of the distribution\n",
    "# graph = X1.drawPDF()\n",
    "# graph.setTitle(\"PDF of X1, significant wave height, swell waves\")\n",
    "# graph.setXTitle(\"x\")\n",
    "# graph.setYTitle(\"Density\")\n",
    "# # Show the plot using Matplotlib\n",
    "# view = ot.viewer.View(graph)\n",
    "# plt.show()"
   ]
  },
  {
   "cell_type": "code",
   "execution_count": null,
   "metadata": {},
   "outputs": [],
   "source": [
    "def F_morison_swell_current(significant_wave_height_swell, U_current_veloctiy):\n",
    "    # General properties\n",
    "    rhoW = 1025                                                 # kg/m^3\n",
    "    D = np.sqrt(38/np.pi)*2                                     # diameter of cylinder\n",
    "    depth = 30                                                  # depth of water\n",
    "\n",
    "    # Swell Wave properties\n",
    "    Tp = 12\n",
    "    Omega = 2*np.pi/Tp\n",
    "    L = 9.81*Tp**2/(2*np.pi)\n",
    "    k = 2*np.pi/L\n",
    "    Amplitude = significant_wave_height_swell/2                 # wave amplitude\n",
    "\n",
    "    \n",
    "    # Water velocity\n",
    "    cos_func = 1 #np.cos(omega*t-k*x)\n",
    "    u_swell =  Amplitude*Omega*np.exp(-k*depth)*cos_func\n",
    "    \n",
    "    # Intertia force\n",
    "    CM = 1+((9.2/2) / (20.8/2))                                 # added mass coefficient\n",
    "    F_inertia_swell =  (np.pi*rhoW*CM*D**2)/4 * (u_swell)\n",
    "    \n",
    "    # Drag force\n",
    "    CD = 0.13 # drag coefficient\n",
    "    F_drag_swell = 0.5*rhoW*CD*D*(u_swell+U_current_veloctiy)**2\n",
    "    \n",
    "    F_combined_swell_current = np.sqrt(F_inertia_swell**2 + F_drag_swell**2)\n",
    "    \n",
    "    return F_combined_swell_current\n"
   ]
  },
  {
   "cell_type": "code",
   "execution_count": null,
   "metadata": {},
   "outputs": [],
   "source": [
    "def F_morison_wind(significant_wave_height_windsea):\n",
    "    # General properties\n",
    "    rhoW = 1025                                                 # kg/m^3\n",
    "    D = np.sqrt(38/np.pi)*2                                     # diameter of cylinder\n",
    "    depth = 30                                                  # depth of water\n",
    "\n",
    "    # Wind sea Wave properties\n",
    "    Tp = 12\n",
    "    Omega = 2*np.pi/Tp\n",
    "    L = 9.81*Tp**2/(2*np.pi)\n",
    "    k = 2*np.pi/L\n",
    "    Amplitude = significant_wave_height_windsea/2                 # wave amplitude\n",
    "\n",
    "    \n",
    "    # Water velocity\n",
    "    cos_func = 1 #np.cos(omega*t-k*x)\n",
    "    u_wind =  Amplitude*Omega*np.exp(-k*depth)*cos_func\n",
    "    \n",
    "    # Intertia force\n",
    "    CM = 1+((9.2/2) / (20.8/2))                                 # added mass coefficient\n",
    "    F_inertia_wind =  (np.pi*rhoW*CM*D**2)/4 * (u_wind)\n",
    "    \n",
    "    # Drag force\n",
    "    CD = 0.13 # drag coefficient\n",
    "    F_drag_wind = 0.5*rhoW*CD*D*(u_wind)**2\n",
    "    \n",
    "    F_combined_wind = np.sqrt(F_inertia_wind**2 + F_drag_wind**2)\n",
    "    \n",
    "    return F_combined_wind"
   ]
  },
  {
   "cell_type": "code",
   "execution_count": null,
   "metadata": {},
   "outputs": [],
   "source": [
    "def total_calculation_axial_stresses(significant_wave_height_swell, significant_wave_height_windsea, U_current_velocity):\n",
    "    \n",
    "    # Calculate stress using FEM\n",
    "    sigma_wind = FEM.calculate_stress_FEM(F_morison_wind(significant_wave_height_windsea))\n",
    "    sigma_swell = FEM.calculate_stress_FEM(F_morison_swell_current(significant_wave_height_swell, U_current_velocity))\n",
    "    \n",
    "    # Total stress\n",
    "    sigma = sigma_wind + sigma_swell \n",
    "    \n",
    "    return sigma "
   ]
  },
  {
   "cell_type": "markdown",
   "metadata": {},
   "source": [
    "### 2. Determine Limit State Function"
   ]
  },
  {
   "cell_type": "code",
   "execution_count": null,
   "metadata": {},
   "outputs": [],
   "source": [
    "# Determine myLSF\n",
    "def myLSF(x):\n",
    "    ''' \n",
    "    Vectorized limit-state function.\n",
    "\n",
    "    Arguments:\n",
    "    x: vector. x=[X1, X2, X3]. \n",
    "    '''\n",
    "    \n",
    "\n",
    "    sigma_max = 75 # MPa, maximum allowable compression stress in special concrete\n",
    "    \n",
    "    g = [sigma_max - np.max(total_calculation_axial_stresses(x[0], x[1], x[2]))]\n",
    "    \n",
    "    return g\n",
    "\n"
   ]
  },
  {
   "cell_type": "markdown",
   "metadata": {},
   "source": [
    "### 3. Run Monte Carlo Simulation and FORM analysis\n"
   ]
  },
  {
   "cell_type": "code",
   "execution_count": null,
   "metadata": {},
   "outputs": [],
   "source": [
    "import Probabilistic"
   ]
  },
  {
   "cell_type": "code",
   "execution_count": null,
   "metadata": {},
   "outputs": [],
   "source": [
    "Probabilistic.run_FORM_and_MCS(X1, X2, X3, myLSF, mc_size = 10)"
   ]
  },
  {
   "cell_type": "code",
   "execution_count": null,
   "metadata": {},
   "outputs": [],
   "source": [
    "Probabilistic.run_FORM_and_MCS_part2()"
   ]
  },
  {
   "cell_type": "code",
   "execution_count": null,
   "metadata": {},
   "outputs": [],
   "source": []
  },
  {
   "cell_type": "code",
   "execution_count": null,
   "metadata": {},
   "outputs": [],
   "source": []
  }
 ],
 "metadata": {
  "kernelspec": {
   "display_name": "New_base_question",
   "language": "python",
   "name": "python3"
  },
  "language_info": {
   "codemirror_mode": {
    "name": "ipython",
    "version": 3
   },
   "file_extension": ".py",
   "mimetype": "text/x-python",
   "name": "python",
   "nbconvert_exporter": "python",
   "pygments_lexer": "ipython3",
   "version": "3.9.17"
  }
 },
 "nbformat": 4,
 "nbformat_minor": 2
}
