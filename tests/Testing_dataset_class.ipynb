{
 "cells": [
  {
   "cell_type": "code",
   "execution_count": 1,
   "metadata": {},
   "outputs": [],
   "source": [
    "import sys\n",
    "sys.path.append(r'C:\\Users\\sieme\\OneDrive\\Documenten\\16. TA, Probabilistic Design\\bivariate\\src')\n"
   ]
  },
  {
   "cell_type": "code",
   "execution_count": 2,
   "metadata": {},
   "outputs": [],
   "source": [
    "# import class_multivar\n",
    "# import class_dataset\n",
    "import bivariate"
   ]
  },
  {
   "cell_type": "code",
   "execution_count": 7,
   "metadata": {},
   "outputs": [
    {
     "name": "stdout",
     "output_type": "stream",
     "text": [
      "Object `bivariate.class_dataset.Dataset` not found.\n"
     ]
    }
   ],
   "source": [
    "bivariate.class_dataset.Dataset?"
   ]
  },
  {
   "cell_type": "code",
   "execution_count": 6,
   "metadata": {},
   "outputs": [
    {
     "name": "stdout",
     "output_type": "stream",
     "text": [
      "\u001b[1;31mInit signature:\u001b[0m\n",
      "\u001b[0mbivariate\u001b[0m\u001b[1;33m.\u001b[0m\u001b[0mclass_multivar\u001b[0m\u001b[1;33m.\u001b[0m\u001b[0mBivariate\u001b[0m\u001b[1;33m(\u001b[0m\u001b[1;33m\n",
      "\u001b[0m    \u001b[0mRandomVariables\u001b[0m\u001b[1;33m:\u001b[0m \u001b[0mlist\u001b[0m\u001b[1;33m,\u001b[0m\u001b[1;33m\n",
      "\u001b[0m    \u001b[0mFamily\u001b[0m\u001b[1;33m,\u001b[0m\u001b[1;33m\n",
      "\u001b[0m    \u001b[0mParameter_x\u001b[0m\u001b[1;33m=\u001b[0m\u001b[1;36m0\u001b[0m\u001b[1;33m,\u001b[0m\u001b[1;33m\n",
      "\u001b[0m\u001b[1;33m)\u001b[0m\u001b[1;33m\u001b[0m\u001b[1;33m\u001b[0m\u001b[0m\n",
      "\u001b[1;31mDocstring:\u001b[0m     \n",
      "Bivariate class for bivariate probabilistic analyses.\n",
      "\n",
      "Designed for the course: MUDE and Probabilistic Design, Civil Engineering, TU Delft.\n",
      "\u001b[1;31mInit docstring:\u001b[0m\n",
      "Attributes of the Bivariate class.\n",
      "\n",
      "Parameters\n",
      "----------\n",
      "RandomVariables : `list` of `objects`: scipy.stats.distributions.\n",
      "    List of Random Variables\n",
      "    Random Variables defined as object with scipy.stats.distributions.\n",
      "Family : `str`    #rrrrrrrrrr is family the correct name?\n",
      "    Types of supported bivariate copula:\n",
      "    - Normal\n",
      "    - Clayton\n",
      "    - Independent\n",
      "    - Can be extended to other copulas\n",
      "Parameter_X : `float`     #rrrrrrrr What is this parameter? \n",
      "    Description of `param3`.\n",
      "    \n",
      "Examples\n",
      "--------\n",
      "If one wants to create a bivariate distributions of:\n",
      "\n",
      ".. math::\n",
      "    RV_x1 ~ N(0,1)\n",
      "    RV_x2 ~ N(0,1)\n",
      "With a Normal copula with parameter 0.0\n",
      "\n",
      "One can input:\n",
      ">>> RandomVariables = [scipy.stats.norm(0,1), scipy.stats.norm(0,1)]\n",
      ">>> Family = \"Normal\"\n",
      ">>> Parameter_x = 0.0\n",
      ">>> Bivariate(RandomVariables, Family, Parameter_x)\n",
      "\u001b[1;31mFile:\u001b[0m           c:\\users\\sieme\\onedrive\\documenten\\16. ta, probabilistic design\\bivariate\\src\\bivariate\\class_multivar.py\n",
      "\u001b[1;31mType:\u001b[0m           type\n",
      "\u001b[1;31mSubclasses:\u001b[0m     "
     ]
    }
   ],
   "source": [
    "bivariate.class_multivar.Bivariate?"
   ]
  },
  {
   "cell_type": "code",
   "execution_count": null,
   "metadata": {},
   "outputs": [],
   "source": [
    "import pandas as pd"
   ]
  },
  {
   "cell_type": "code",
   "execution_count": null,
   "metadata": {},
   "outputs": [],
   "source": [
    "df = pd.read_excel(r\"C:\\Users\\sieme\\OneDrive\\Documenten\\2493D~1.TUD\\3F482~1.MAS\\569DA~1.MUL\\23DBA~1.PER\\1A7CF~1.WEB\\17D3D~1.CDE\\2023-0~2.XLS\")"
   ]
  },
  {
   "cell_type": "code",
   "execution_count": null,
   "metadata": {},
   "outputs": [
    {
     "data": {
      "text/html": [
       "<div>\n",
       "<style scoped>\n",
       "    .dataframe tbody tr th:only-of-type {\n",
       "        vertical-align: middle;\n",
       "    }\n",
       "\n",
       "    .dataframe tbody tr th {\n",
       "        vertical-align: top;\n",
       "    }\n",
       "\n",
       "    .dataframe thead th {\n",
       "        text-align: right;\n",
       "    }\n",
       "</style>\n",
       "<table border=\"1\" class=\"dataframe\">\n",
       "  <thead>\n",
       "    <tr style=\"text-align: right;\">\n",
       "      <th></th>\n",
       "      <th>Unnamed: 0</th>\n",
       "      <th>Date</th>\n",
       "      <th>Water level (feet)</th>\n",
       "    </tr>\n",
       "  </thead>\n",
       "  <tbody>\n",
       "    <tr>\n",
       "      <th>0</th>\n",
       "      <td>0</td>\n",
       "      <td>2023-08-28 23:00:00</td>\n",
       "      <td>6.69</td>\n",
       "    </tr>\n",
       "    <tr>\n",
       "      <th>1</th>\n",
       "      <td>1</td>\n",
       "      <td>2023-08-28 22:00:00</td>\n",
       "      <td>6.32</td>\n",
       "    </tr>\n",
       "    <tr>\n",
       "      <th>2</th>\n",
       "      <td>2</td>\n",
       "      <td>2023-08-28 21:00:00</td>\n",
       "      <td>5.74</td>\n",
       "    </tr>\n",
       "    <tr>\n",
       "      <th>3</th>\n",
       "      <td>3</td>\n",
       "      <td>2023-08-28 20:00:00</td>\n",
       "      <td>4.87</td>\n",
       "    </tr>\n",
       "    <tr>\n",
       "      <th>4</th>\n",
       "      <td>4</td>\n",
       "      <td>2023-08-28 19:00:00</td>\n",
       "      <td>4.05</td>\n",
       "    </tr>\n",
       "    <tr>\n",
       "      <th>...</th>\n",
       "      <td>...</td>\n",
       "      <td>...</td>\n",
       "      <td>...</td>\n",
       "    </tr>\n",
       "    <tr>\n",
       "      <th>196019</th>\n",
       "      <td>196019</td>\n",
       "      <td>2001-01-01 04:00:00</td>\n",
       "      <td>2.93</td>\n",
       "    </tr>\n",
       "    <tr>\n",
       "      <th>196020</th>\n",
       "      <td>196020</td>\n",
       "      <td>2001-01-01 03:00:00</td>\n",
       "      <td>2.07</td>\n",
       "    </tr>\n",
       "    <tr>\n",
       "      <th>196021</th>\n",
       "      <td>196021</td>\n",
       "      <td>2001-01-01 02:00:00</td>\n",
       "      <td>1.23</td>\n",
       "    </tr>\n",
       "    <tr>\n",
       "      <th>196022</th>\n",
       "      <td>196022</td>\n",
       "      <td>2001-01-01 01:00:00</td>\n",
       "      <td>0.83</td>\n",
       "    </tr>\n",
       "    <tr>\n",
       "      <th>196023</th>\n",
       "      <td>196023</td>\n",
       "      <td>2001-01-01 00:00:00</td>\n",
       "      <td>0.99</td>\n",
       "    </tr>\n",
       "  </tbody>\n",
       "</table>\n",
       "<p>196024 rows × 3 columns</p>\n",
       "</div>"
      ],
      "text/plain": [
       "        Unnamed: 0                Date  Water level (feet)\n",
       "0                0 2023-08-28 23:00:00                6.69\n",
       "1                1 2023-08-28 22:00:00                6.32\n",
       "2                2 2023-08-28 21:00:00                5.74\n",
       "3                3 2023-08-28 20:00:00                4.87\n",
       "4                4 2023-08-28 19:00:00                4.05\n",
       "...            ...                 ...                 ...\n",
       "196019      196019 2001-01-01 04:00:00                2.93\n",
       "196020      196020 2001-01-01 03:00:00                2.07\n",
       "196021      196021 2001-01-01 02:00:00                1.23\n",
       "196022      196022 2001-01-01 01:00:00                0.83\n",
       "196023      196023 2001-01-01 00:00:00                0.99\n",
       "\n",
       "[196024 rows x 3 columns]"
      ]
     },
     "metadata": {},
     "output_type": "display_data"
    }
   ],
   "source": [
    "display(df)"
   ]
  },
  {
   "cell_type": "code",
   "execution_count": null,
   "metadata": {},
   "outputs": [
    {
     "ename": "AttributeError",
     "evalue": "module 'bivariate' has no attribute 'class_dataset'",
     "output_type": "error",
     "traceback": [
      "\u001b[1;31m---------------------------------------------------------------------------\u001b[0m",
      "\u001b[1;31mAttributeError\u001b[0m                            Traceback (most recent call last)",
      "\u001b[1;32mc:\\Users\\sieme\\OneDrive\\Documenten\\16. TA, Probabilistic Design\\bivariate\\tests\\Testing_dataset_class.ipynb Cell 6\u001b[0m line \u001b[0;36m1\n\u001b[1;32m----> <a href='vscode-notebook-cell:/c%3A/Users/sieme/OneDrive/Documenten/16.%20TA%2C%20Probabilistic%20Design/bivariate/tests/Testing_dataset_class.ipynb#W2sZmlsZQ%3D%3D?line=0'>1</a>\u001b[0m bivariate\u001b[39m.\u001b[39;49mclass_dataset\u001b[39m.\u001b[39mDataset(df, [\u001b[39m'\u001b[39m\u001b[39mDate\u001b[39m\u001b[39m'\u001b[39m, \u001b[39m'\u001b[39m\u001b[39mWater level (feet)\u001b[39m\u001b[39m'\u001b[39m], [\u001b[39m'\u001b[39m\u001b[39mDate\u001b[39m\u001b[39m'\u001b[39m, \u001b[39m'\u001b[39m\u001b[39mWater level (feet)\u001b[39m\u001b[39m'\u001b[39m])\n",
      "\u001b[1;31mAttributeError\u001b[0m: module 'bivariate' has no attribute 'class_dataset'"
     ]
    }
   ],
   "source": [
    "bivariate.class_dataset.Dataset(df, ['Date', 'Water level (feet)'], ['Date', 'Water level (feet)'])"
   ]
  },
  {
   "cell_type": "code",
   "execution_count": null,
   "metadata": {},
   "outputs": [],
   "source": []
  }
 ],
 "metadata": {
  "kernelspec": {
   "display_name": "New_base_question",
   "language": "python",
   "name": "python3"
  },
  "language_info": {
   "codemirror_mode": {
    "name": "ipython",
    "version": 3
   },
   "file_extension": ".py",
   "mimetype": "text/x-python",
   "name": "python",
   "nbconvert_exporter": "python",
   "pygments_lexer": "ipython3",
   "version": "3.9.17"
  }
 },
 "nbformat": 4,
 "nbformat_minor": 2
}
