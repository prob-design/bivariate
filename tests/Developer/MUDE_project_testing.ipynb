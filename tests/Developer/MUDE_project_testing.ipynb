{
 "cells": [
  {
   "cell_type": "code",
   "execution_count": null,
   "metadata": {},
   "outputs": [],
   "source": [
    "import pandas as pd\n",
    "import numpy as np\n",
    "import matplotlib.pyplot as plt\n"
   ]
  },
  {
   "cell_type": "code",
   "execution_count": null,
   "metadata": {},
   "outputs": [],
   "source": [
    "np.array([1, 2, 3, 4, 5])"
   ]
  },
  {
   "cell_type": "code",
   "execution_count": null,
   "metadata": {},
   "outputs": [],
   "source": []
  },
  {
   "cell_type": "code",
   "execution_count": null,
   "metadata": {},
   "outputs": [],
   "source": [
    "\n",
    "# Import local classes\n",
    "import sys\n",
    "sys.path.append(r'C:\\Users\\sieme\\OneDrive\\Documenten\\16. TA, Probabilistic Design\\bivariate\\src')\n",
    "\n",
    "import bivariate.class_dataset\n",
    "import bivariate.class_multivar\n",
    "import bivariate.class_emperical"
   ]
  },
  {
   "cell_type": "code",
   "execution_count": null,
   "metadata": {},
   "outputs": [],
   "source": [
    "# Import data\n",
    "AX1, AX2 = np.genfromtxt('data_axle.csv', delimiter=\",\", unpack = True)"
   ]
  },
  {
   "cell_type": "code",
   "execution_count": null,
   "metadata": {},
   "outputs": [],
   "source": [
    "# Create object of class Emperical_data\n",
    "AX1_object = bivariate.class_emperical.Emperical_data(time_series_data =  AX1, data_title = 'AX1', data_units = 'Axle load [kN]')\n",
    "AX2_object = bivariate.class_emperical.Emperical_data(time_series_data =  AX2, data_title = 'AX2', data_units = 'Axle load [kN]')"
   ]
  },
  {
   "cell_type": "code",
   "execution_count": null,
   "metadata": {},
   "outputs": [],
   "source": [
    "# F STRING FORMATTING, USE DECIMALS AND KEEP IN MIND \n",
    "# BENJAMIN ALREADY DID THAT, WHILE PLOTTINIG FIGURES FOR BIVARIATE, AND OR OR PLOTS\n",
    "\n",
    "\n",
    "# if not compare:\n",
    "#             if p < 0.01:\n",
    "#                 ax.text(.01, .01, r\"$(P=$\" + \"{:.2e})\".format(p), ha=\"left\", va=\"bottom\", transform=ax.transAxes)\n",
    "#                 ax.set_title(\"$p_{AND}$\" + \" (={:.2e}\".format(p) + \")\", fontsize=18)\n",
    "#             else:\n",
    "#                 ax.text(.01, .01, r\"$(P=$\" + \"{:.4f})\".format(p), ha=\"left\", va=\"bottom\", transform=ax.transAxes)\n",
    "#                 ax.set_title(\"$p_{AND}$\" + \" (={:.4f}\".format(p) + \")\", fontsize=18)\n",
    "#         else:\n",
    "#             if p < 0.01:\n",
    "#                 ax.text(.01, .07, r\"$(P_{2}=$\" + \"{:.2e})\".format(p), ha=\"left\", transform=ax.transAxes)\n",
    "#                 ax.set_title(\"$p_{AND}$\" + \" (={:.2e}\".format(p) + \")\", fontsize=18)\n",
    "#             else:\n",
    "#                 ax.text(.01, .07, r\"$(P_{2}=$\" + \"{:.4f})\".format(p), ha=\"left\", transform=ax.transAxes)\n",
    "#                 ax.set_title(\"$p_{AND}$\" + \" (={:.4f}\".format(p) + \")\", fontsize=18)\n",
    "#         ax.set_xlabel('$x_' + str(x_index) + '$', fontsize=15)\n",
    "#         ax.set_ylabel('$x_' + str(1 - x_index) + '$', fontsize=15)\n",
    "#         return f, ax\n",
    "\n",
    "\n",
    "print(f'{0.32457:8.2f}')"
   ]
  },
  {
   "cell_type": "code",
   "execution_count": null,
   "metadata": {},
   "outputs": [],
   "source": [
    "# Print summary of object\n",
    "AX1_object.data_summary()\n",
    "\n",
    "### ONLY USE 4 SIGNIFICANT FIGURES OR 3 DECIMALS IF INT. <10 \n",
    "print()"
   ]
  },
  {
   "cell_type": "code",
   "execution_count": null,
   "metadata": {},
   "outputs": [],
   "source": [
    "fig1, ax1 = AX1_object.time_series_plot()\n",
    "AX2_object.time_series_plot(ax = ax1, fig = fig1);"
   ]
  },
  {
   "cell_type": "code",
   "execution_count": null,
   "metadata": {},
   "outputs": [],
   "source": [
    "fig2, ax2 = AX1_object.PDF_and_ECDF_plot();\n",
    "AX2_object.PDF_and_ECDF_plot(axes = ax2, fig = fig2);"
   ]
  },
  {
   "cell_type": "code",
   "execution_count": null,
   "metadata": {},
   "outputs": [],
   "source": [
    "# Fit distributions\n",
    "AX1_object.fitting_distributions()\n",
    "AX2_object.fitting_distributions()\n",
    "AX2_object.params_gumb\n",
    "AX2_object.params_logn"
   ]
  },
  {
   "cell_type": "code",
   "execution_count": null,
   "metadata": {},
   "outputs": [],
   "source": [
    "AX1_object.graphical_assessing_goodness_of_fit();\n"
   ]
  },
  {
   "cell_type": "code",
   "execution_count": null,
   "metadata": {},
   "outputs": [],
   "source": [
    "AX1_object.QQ_plot();"
   ]
  },
  {
   "cell_type": "code",
   "execution_count": null,
   "metadata": {},
   "outputs": [],
   "source": [
    "AX1_object.KS_test()\n",
    "AX2_object.KS_test()"
   ]
  },
  {
   "cell_type": "code",
   "execution_count": null,
   "metadata": {},
   "outputs": [],
   "source": []
  }
 ],
 "metadata": {
  "kernelspec": {
   "display_name": "New_base_question",
   "language": "python",
   "name": "python3"
  },
  "language_info": {
   "codemirror_mode": {
    "name": "ipython",
    "version": 3
   },
   "file_extension": ".py",
   "mimetype": "text/x-python",
   "name": "python",
   "nbconvert_exporter": "python",
   "pygments_lexer": "ipython3",
   "version": "3.9.17"
  }
 },
 "nbformat": 4,
 "nbformat_minor": 2
}
