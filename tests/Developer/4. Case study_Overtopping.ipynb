{
 "cells": [
  {
   "cell_type": "code",
   "execution_count": null,
   "metadata": {},
   "outputs": [],
   "source": [
    "import numpy as np\n",
    "import matplotlib.pyplot as plt\n",
    "import scipy.stats as st\n",
    "\n",
    "import openturns as ot\n",
    "import openturns.viewer as viewer\n",
    "ot.Log.Show(ot.Log.NONE)"
   ]
  },
  {
   "cell_type": "code",
   "execution_count": null,
   "metadata": {},
   "outputs": [],
   "source": [
    "# Import local classes\n",
    "# Import local classes\n",
    "import sys\n",
    "sys.path.append(r'../../src/')\n",
    "\n",
    "import bivariate.class_copula"
   ]
  },
  {
   "cell_type": "markdown",
   "metadata": {},
   "source": [
    "### 1. Wind set-up\n",
    "$$S = C_2 * \\frac{u^2}{g*d}*F$$"
   ]
  },
  {
   "cell_type": "code",
   "execution_count": null,
   "metadata": {},
   "outputs": [],
   "source": [
    "def wind_set_up(u,d,F=3000, C2 = 4.0e-6):\n",
    "    \"\"\"\n",
    "    This function calculates the wind set-up from the wind speed and average depth\n",
    "\n",
    "    Parameters\n",
    "    ----------\n",
    "    u : float\n",
    "        [m/s] Wind speed\n",
    "    d : float\n",
    "        [m] Average depth over fetch length\n",
    "    F : float\n",
    "        [m] Fetch length\n",
    "    C2 : float, optional\n",
    "        [-] Empirical constant, between 3.5e-6 and 4.0e-6, default is 4.0e-6\n",
    "    \n",
    "    Returns\n",
    "    -------\n",
    "    S : float\n",
    "        [m] Wind set-up at toe of the dike\n",
    "    \"\"\"\n",
    "\n",
    "    g = 9.81\n",
    "    S = C2 * (u**2)/(g*d) * F  \n",
    "    return S "
   ]
  },
  {
   "cell_type": "markdown",
   "metadata": {},
   "source": [
    "### 2. Run-up level\n",
    "$$Ru_{2\\%} = 8H_s*tan(\\alpha)$$"
   ]
  },
  {
   "cell_type": "code",
   "execution_count": null,
   "metadata": {},
   "outputs": [],
   "source": [
    "def run_up_level(Hs,alpha):\n",
    "    import numpy as np\n",
    "    \"\"\"\n",
    "    This function calculates the run-up level from the significant wave height\n",
    "\n",
    "    Parameters\n",
    "    ----------\n",
    "    Hs : float\n",
    "        [m] Significant wave height\n",
    "    alpha : float\n",
    "        [degrees] Angle of the slope of the toe of dike\n",
    "    \n",
    "    Returns\n",
    "    -------\n",
    "    Ru2 : float\n",
    "        [m] Run-up level, exceeded by 2% of the waves\n",
    "    \"\"\"\n",
    "    # Since numpy works with radians, we need to convert the angle to radians\n",
    "    alpha_radians = np.radians(alpha)\n",
    "\n",
    "    Ru2 = 8*Hs*np.tan(alpha_radians)\n",
    "    return Ru2\n"
   ]
  },
  {
   "cell_type": "markdown",
   "metadata": {},
   "source": [
    "### 3. Average water depth\n",
    "$$d_{average,fetch} = h_{offshore} - Z_{bed}$$"
   ]
  },
  {
   "cell_type": "markdown",
   "metadata": {},
   "source": [
    "### 4. Water level at dike\n",
    "$$d_{waterlevel,dike} = d_{average,fetch} + Ru_{2\\%} + S $$ "
   ]
  },
  {
   "cell_type": "markdown",
   "metadata": {},
   "source": [
    "### B. Determine statistical properties of Random Variables"
   ]
  },
  {
   "cell_type": "code",
   "execution_count": null,
   "metadata": {},
   "outputs": [],
   "source": [
    "#### Add background information!!!!"
   ]
  },
  {
   "cell_type": "markdown",
   "metadata": {},
   "source": [
    "### B.1. Plotting distributions\n"
   ]
  },
  {
   "cell_type": "code",
   "execution_count": null,
   "metadata": {},
   "outputs": [],
   "source": [
    "import bivariate.class_emperical"
   ]
  },
  {
   "cell_type": "code",
   "execution_count": null,
   "metadata": {},
   "outputs": [],
   "source": [
    "# Create object for a random variable\n",
    "object_Hs = bivariate.class_emperical.Emperical_data(data_title='Hs', data_units='m')\n",
    "\n",
    "# Add a distribution to the object\n",
    "object_Hs.add_distribution(distribution_name= 'exponential',\n",
    "                            rv_continous_frozen= st.expon(loc=0, scale=1.01) )\n",
    "\n",
    "object_Hs.add_distribution(distribution_name= 'normal',\n",
    "                            rv_continous_frozen= st.norm(loc=1, scale=0.2) )\n",
    "\n",
    "# Add extreme value distribution\n",
    "object_Hs.add_distribution(distribution_name= 'genextreme',\n",
    "                            rv_continous_frozen= st.genextreme(c=-0.1, loc=1, scale=0.2))\n",
    "# Plot the distributions\n",
    "object_Hs.plot_distributions(log_scale=True)"
   ]
  },
  {
   "cell_type": "markdown",
   "metadata": {},
   "source": [
    "### C.0 Define LSF"
   ]
  },
  {
   "cell_type": "code",
   "execution_count": null,
   "metadata": {},
   "outputs": [],
   "source": [
    "def total_water_level_at_dike(Hs, u, d_average=3, alpha=20, F=10000, C2 = 4.0e-6):\n",
    "    \"\"\"\n",
    "    This function calculates the seperate parts that sum up to total water level at the dike\n",
    "\n",
    "    Parameters\n",
    "    ----------\n",
    "    Hs : float\n",
    "        [m] Significant wave height\n",
    "    alpha : float\n",
    "        [degrees] Angle of the slope of the toe of dike\n",
    "    u : float\n",
    "        [m/s] Wind speed\n",
    "    d : float\n",
    "        [m] Average depth over fetch length\n",
    "    F : float\n",
    "        [m] Fetch length\n",
    "    h_offshore : float\n",
    "        [m] Offshore water level\n",
    "    Zbed : float\n",
    "        [m] Bed level at the toe of the dike\n",
    "    \n",
    "    Returns\n",
    "    -------\n",
    "    TWL_sample : 3D array\n",
    "        [m] Total water level at the dike, consisting of run-up level, wind set-up and average water depth\n",
    "    \n",
    "    \"\"\"\n",
    "    # Calculate wind set-up\n",
    "    S = wind_set_up(u,d_average,F, C2)\n",
    "\n",
    "        \n",
    "    # Calculate run-up level\n",
    "    Ru2 = run_up_level(Hs,alpha)\n",
    "    \n",
    "    # Calculate total water level\n",
    "    TWL = d_average + Ru2 + S\n",
    "    return TWL"
   ]
  },
  {
   "cell_type": "markdown",
   "metadata": {},
   "source": [
    "### C. Sampling with MCS"
   ]
  },
  {
   "cell_type": "code",
   "execution_count": null,
   "metadata": {},
   "outputs": [],
   "source": [
    "# Determine the random variables \n",
    "Hs = st.expon(loc=1, scale=0.2)           # Significant wave height\n",
    "u = st.expon(loc=1, scale=1.0663)           # Wind speed\n",
    "h_offshore = st.norm(loc=4, scale=0.4)      # Water level offshore\n",
    "Z_bed = st.norm(loc=1, scale=0.1)         # Average bed level over the fetch length"
   ]
  },
  {
   "cell_type": "code",
   "execution_count": null,
   "metadata": {},
   "outputs": [],
   "source": [
    "# Generate random samples\n",
    "n = 1000  # Number of samples\n",
    "\n",
    "# Generate random samples\n",
    "Hs_samples = Hs.rvs(size = n)\n",
    "u_samples = u.rvs(size = n)\n",
    "h_offshore_samples = h_offshore.rvs(size = n)\n",
    "Z_bed_samples = Z_bed.rvs(size = n)\n",
    "depth_average_samples = h_offshore_samples - Z_bed_samples"
   ]
  },
  {
   "cell_type": "markdown",
   "metadata": {},
   "source": [
    "### C.1 Fixate d_average"
   ]
  },
  {
   "cell_type": "code",
   "execution_count": null,
   "metadata": {},
   "outputs": [],
   "source": [
    "# Combine other two sample list into an array\n",
    "Hs_u_samples = np.array([Hs_samples, u_samples]).T\n",
    "\n",
    "def LSF_fix_depth(Hs, u):\n",
    "    TWL = total_water_level_at_dike(Hs, u, d_average=5, alpha=20, F=10000, C2 = 4.0e-6)\n",
    "    h_max = 10\n",
    "    function = (TWL - h_max >= 0)\n",
    "    return function\n",
    "\n"
   ]
  },
  {
   "cell_type": "code",
   "execution_count": null,
   "metadata": {},
   "outputs": [],
   "source": [
    "LSF_class_fixate_depth = bivariate.class_copula.Region_of_interest(random_samples=Hs_u_samples, labels = ['Hs [m]', 'u [m/s]'])\n",
    "\n",
    "# Plot the emperical contours of the random samples\n",
    "LSF_class_fixate_depth.plot_emperical_contours(bandwidth=1, equal_axis=True)\n",
    "\n",
    "# Assign the function to the class instance\n",
    "LSF_class_fixate_depth.function = LSF_fix_depth\n",
    "\n",
    "# Calculate the probability of failure\n",
    "LSF_class_fixate_depth.inside_function()\n",
    "\n",
    "# # Plot the points inside the region of interest\n",
    "LSF_class_fixate_depth.plot_inside_function(equal_axis=True);\n",
    "\n"
   ]
  },
  {
   "cell_type": "markdown",
   "metadata": {},
   "source": [
    "### C.2 New fixate Hs"
   ]
  },
  {
   "cell_type": "code",
   "execution_count": null,
   "metadata": {},
   "outputs": [],
   "source": [
    "# Combine other two sample list into an array\n",
    "d_u_samples = np.array([depth_average_samples, u_samples]).T\n",
    "\n",
    "def LSF_fix_Hs(u_input, d_average_input):\n",
    "    TWL = total_water_level_at_dike(Hs = 3, u = u_input, d_average=d_average_input, alpha=20, F=10000, C2 = 4.0e-6)\n",
    "    h_max = 10\n",
    "    function = (TWL - h_max >= 0)\n",
    "    return function\n",
    "\n"
   ]
  },
  {
   "cell_type": "code",
   "execution_count": null,
   "metadata": {},
   "outputs": [],
   "source": [
    "LSF_class_fixate_Hs = bivariate.class_copula.Region_of_interest(random_samples=Hs_u_samples, labels = ['d_average [m]', 'u [m/s]'])\n",
    "\n",
    "# Plot the emperical contours of the random samples\n",
    "LSF_class_fixate_Hs.plot_emperical_contours(bandwidth=1, equal_axis=True)\n",
    "\n",
    "# Assign the function to the class instance\n",
    "LSF_class_fixate_Hs.function = LSF_fix_Hs\n",
    "\n",
    "# Calculate the probability of failure\n",
    "LSF_class_fixate_Hs.inside_function()\n",
    "\n",
    "# # Plot the points inside the region of interest\n",
    "LSF_class_fixate_Hs.plot_inside_function(equal_axis=True);\n",
    "\n"
   ]
  },
  {
   "cell_type": "markdown",
   "metadata": {},
   "source": [
    "### C.3 Fixate u"
   ]
  },
  {
   "cell_type": "code",
   "execution_count": null,
   "metadata": {},
   "outputs": [],
   "source": [
    "# Combine other two sample list into an array\n",
    "Hs_d_samples = np.array([depth_average_samples, Hs_samples]).T\n",
    "\n",
    "def LSF_fix_u(Hs_input, d_input):\n",
    "    TWL = total_water_level_at_dike(Hs = Hs_input, u = 3, d_average=d_input, alpha=20, F=10000, C2 = 4.0e-6)\n",
    "    h_max = 10\n",
    "    function = (TWL - h_max >= 0)\n",
    "    return function\n",
    "\n"
   ]
  },
  {
   "cell_type": "code",
   "execution_count": null,
   "metadata": {},
   "outputs": [],
   "source": [
    "LSF_class_fixate_u = bivariate.class_copula.Region_of_interest(random_samples=Hs_d_samples, labels = ['d_average [m]', 'Hs [m]'])\n",
    "\n",
    "# Plot the emperical contours of the random samples\n",
    "LSF_class_fixate_u.plot_emperical_contours(bandwidth=1, equal_axis=True)\n",
    "\n",
    "# Assign the function to the class instance\n",
    "LSF_class_fixate_u.function = LSF_fix_u\n",
    "\n",
    "# Calculate the probability of failure\n",
    "LSF_class_fixate_u.inside_function()\n",
    "\n",
    "# # Plot the points inside the region of interest\n",
    "LSF_class_fixate_u.plot_inside_function(equal_axis=True);\n",
    "\n"
   ]
  },
  {
   "cell_type": "markdown",
   "metadata": {},
   "source": [
    "### E. OpenTurns\n"
   ]
  },
  {
   "cell_type": "code",
   "execution_count": null,
   "metadata": {},
   "outputs": [],
   "source": [
    "# Determine the random variables \n",
    "Hs_OT = ot.Exponential(2.0309)     # Significant wave height\n",
    "u_OT = ot.Exponential(2.0663)      # Wind speed\n",
    "\n",
    "\n",
    "h_offshore_OT = ot.Normal(2, 0.2)  # Water level offshore\n",
    "Z_bed_OT = ot.Normal(0.5, 0.1)     # Average bed level over the fetch length\n",
    "d_average_OT = h_offshore_OT - Z_bed_OT  # Average depth over the fetch length"
   ]
  },
  {
   "cell_type": "code",
   "execution_count": null,
   "metadata": {},
   "outputs": [],
   "source": [
    "# Determine myLSF\n",
    "def myLSF(x):\n",
    "    ''' \n",
    "    Vectorized limit-state function.\n",
    "\n",
    "    Arguments:\n",
    "    x: vector. x=[Hs, u, h_offshore, Z_bed]. \n",
    "    '''\n",
    "    \n",
    "    \n",
    "    # Height of the dike, referenced from the bed level\n",
    "    z_dike = 10\n",
    "\n",
    "\n",
    "    g = [z_dike - total_water_level_at_dike(Hs = x[0],alpha = 30, u = x[1], F = 3000, d_average = x[2])]\n",
    "    return g"
   ]
  },
  {
   "cell_type": "code",
   "execution_count": null,
   "metadata": {},
   "outputs": [],
   "source": [
    "from component_reliability import Case_Study_Compontent_Reliability_Tools"
   ]
  },
  {
   "cell_type": "code",
   "execution_count": null,
   "metadata": {},
   "outputs": [],
   "source": [
    "Case_Study_Compontent_Reliability_Tools.run_FORM_and_MCS(Hs_OT, u_OT, d_average_OT, myLSF, mc_size = 10000)"
   ]
  },
  {
   "cell_type": "code",
   "execution_count": null,
   "metadata": {},
   "outputs": [],
   "source": []
  }
 ],
 "metadata": {
  "kernelspec": {
   "display_name": "Python 3",
   "language": "python",
   "name": "python3"
  },
  "language_info": {
   "codemirror_mode": {
    "name": "ipython",
    "version": 3
   },
   "file_extension": ".py",
   "mimetype": "text/x-python",
   "name": "python",
   "nbconvert_exporter": "python",
   "pygments_lexer": "ipython3",
   "version": "3.9.17"
  }
 },
 "nbformat": 4,
 "nbformat_minor": 2
}
