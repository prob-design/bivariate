{
 "cells": [
  {
   "cell_type": "code",
   "execution_count": null,
   "metadata": {},
   "outputs": [],
   "source": [
    "# Import local classes\n",
    "import sys\n",
    "sys.path.append(r'../../src/')\n",
    "import bivariate.class_copula\n",
    "\n",
    "# Import standard libraries\n",
    "import pandas as pd\n",
    "import numpy as np\n",
    "import matplotlib.pyplot as plt\n",
    "import pyvinecopulib as cop\n",
    "import scipy.stats as st\n",
    "\n"
   ]
  },
  {
   "cell_type": "markdown",
   "metadata": {},
   "source": [
    "## Using Copula class for a Bivariate Distribution"
   ]
  },
  {
   "cell_type": "code",
   "execution_count": null,
   "metadata": {},
   "outputs": [],
   "source": [
    "# Create distributions for 2 random variables, X1 and X2\n",
    "X1 = st.norm(0,1)           # Normal distribution with mean 0 and standard deviation 1\n",
    "X2 = st.gumbel_r(0,1)       # Gumbel distribution with location 0 and scale 1\n",
    "\n",
    "# Create a copula object\n",
    "Copula_12 = cop.Bicop(family=cop.BicopFamily.gaussian, parameters = [0.7])\n"
   ]
  },
  {
   "cell_type": "code",
   "execution_count": null,
   "metadata": {},
   "outputs": [],
   "source": [
    "# Define a bivariate copula object\n",
    "bivariate_copula_object = bivariate.class_copula.Bivariate([X1,X2], Copula_12)"
   ]
  },
  {
   "cell_type": "code",
   "execution_count": null,
   "metadata": {},
   "outputs": [],
   "source": [
    "# Generate random samples from the bivariate copula object\n",
    "gen_random_samples = bivariate_copula_object.random_samples(1000)"
   ]
  },
  {
   "cell_type": "code",
   "execution_count": null,
   "metadata": {},
   "outputs": [],
   "source": [
    "# Plot the random samples\n",
    "bivariate_copula_object.plot_random_samples();"
   ]
  },
  {
   "cell_type": "code",
   "execution_count": null,
   "metadata": {},
   "outputs": [],
   "source": [
    "# Define a 2D region of interest object and insert the random samples\n",
    "region = bivariate.class_copula.Region_of_interest(random_samples=gen_random_samples)\n",
    "\n",
    "# Define a rectangular region of interest\n",
    "region.define_rectangle(x_left_lower=0.5, y_left_lower=0.5, x_right_upper=1, y_right_upper=1)"
   ]
  },
  {
   "cell_type": "code",
   "execution_count": null,
   "metadata": {},
   "outputs": [],
   "source": [
    "# Plot the rectangular region of interest\n",
    "region.plot_rectangle(xy_lim = [-3, 3, -3, 3]);"
   ]
  },
  {
   "cell_type": "code",
   "execution_count": null,
   "metadata": {},
   "outputs": [],
   "source": [
    "region.inside_rectangle()\n",
    "# region.plot_inside_rectangle();"
   ]
  },
  {
   "cell_type": "code",
   "execution_count": null,
   "metadata": {},
   "outputs": [],
   "source": [
    "import numpy as np\n",
    "import matplotlib.pyplot as plt\n",
    "from matplotlib.patches import Polygon as pltPolygon\n",
    "\n",
    "class RegionOfInterest:\n",
    "    def __init__(self, region_type, **kwargs):\n",
    "        self.region_type = region_type\n",
    "        self.kwargs = kwargs\n",
    "        self.plot_data = None\n",
    "\n",
    "    def is_inside(self, point):\n",
    "        if self.region_type == \"rectangle\":\n",
    "            return self._is_inside_rectangle(point)\n",
    "        elif self.region_type == \"polygon\":\n",
    "            return self._is_inside_polygon(point)\n",
    "        elif self.region_type == \"function\":\n",
    "            return self._is_inside_function(point)\n",
    "        else:\n",
    "            raise ValueError(\"Invalid region type\")\n",
    "\n",
    "    def _is_inside_rectangle(self, point):\n",
    "        x1, x2 = point\n",
    "        return self.kwargs[\"x1_min\"] <= x1 <= self.kwargs[\"x1_max\"] and \\\n",
    "               self.kwargs[\"x2_min\"] <= x2 <= self.kwargs[\"x2_max\"]\n",
    "\n",
    "    def _is_inside_polygon(self, point):\n",
    "        x, y = point\n",
    "        n = len(self.kwargs[\"points\"])\n",
    "        inside = False\n",
    "        p1x, p1y = self.kwargs[\"points\"][0]\n",
    "        for i in range(n + 1):\n",
    "            p2x, p2y = self.kwargs[\"points\"][i % n]\n",
    "            if y > min(p1y, p2y):\n",
    "                if y <= max(p1y, p2y):\n",
    "                    if x <= max(p1x, p2x):\n",
    "                        if p1y != p2y:\n",
    "                            xinters = (y - p1y) * (p2x - p1x) / (p2y - p1y) + p1x\n",
    "                        if p1x == p2x or x <= xinters:\n",
    "                            inside = not inside\n",
    "            p1x, p1y = p2x, p2y\n",
    "        return inside\n",
    "\n",
    "    def _is_inside_function(self, point):\n",
    "        x1, x2 = point\n",
    "        return self.kwargs[\"func\"](x1, x2) >= 0\n",
    "\n",
    "    def plot(self):\n",
    "        if self.region_type == \"rectangle\":\n",
    "            self._plot_rectangle()\n",
    "        elif self.region_type == \"polygon\":\n",
    "            self._plot_polygon()\n",
    "        elif self.region_type == \"function\":\n",
    "            self._plot_function()\n",
    "        else:\n",
    "            raise ValueError(\"Invalid region type\")\n",
    "\n",
    "    def _plot_rectangle(self):\n",
    "        rect = plt.Rectangle((self.kwargs[\"x1_min\"], self.kwargs[\"x2_min\"]),\n",
    "                             self.kwargs[\"x1_max\"] - self.kwargs[\"x1_min\"],\n",
    "                             self.kwargs[\"x2_max\"] - self.kwargs[\"x2_min\"],\n",
    "                             linewidth=1, edgecolor='r', facecolor='none')\n",
    "        plt.gca().add_patch(rect)\n",
    "\n",
    "    def _plot_polygon(self):\n",
    "        polygon = pltPolygon(self.kwargs[\"points\"], closed=True, edgecolor='r', facecolor='none')\n",
    "        plt.gca().add_patch(polygon)\n",
    "\n",
    "    def _plot_function(self):\n",
    "        x1_values = np.linspace(self.kwargs[\"x_range\"][0], self.kwargs[\"x_range\"][1], 100)\n",
    "        x2_values = np.linspace(self.kwargs[\"y_range\"][0], self.kwargs[\"y_range\"][1], 100)\n",
    "        X1, X2 = np.meshgrid(x1_values, x2_values)\n",
    "        Z = self.kwargs[\"func\"](X1, X2)\n",
    "        plt.contourf(X1, X2, Z, levels=[-np.inf, 0], colors='r', alpha=0.3)\n",
    "\n",
    "\n",
    "# Example usage\n",
    "fig, ax = plt.subplots()\n",
    "\n",
    "# Create regions\n",
    "rect_roi = RegionOfInterest(region_type=\"rectangle\", x1_min=0, x1_max=10, x2_min=0, x2_max=5)\n",
    "polygon_roi = RegionOfInterest(region_type=\"polygon\", points=[(1, 1), (4, 1), (3, 4), (1, 4)])\n",
    "arbitrary_func_roi = RegionOfInterest(region_type=\"function\", func=lambda x1, x2: x1**2 + x2 - 3,\n",
    "                                       x_range=(-5, 5), y_range=(-5, 5))\n",
    "\n",
    "# Plot regions\n",
    "rect_roi.plot()\n",
    "polygon_roi.plot()\n",
    "arbitrary_func_roi.plot()\n",
    "\n",
    "# Set plot limits and labels\n",
    "plt.xlim([-5, 12])\n",
    "plt.ylim([-5, 12])\n",
    "plt.xlabel('X1')\n",
    "plt.ylabel('X2')\n",
    "plt.gca().set_aspect('equal', 'box')\n",
    "\n",
    "plt.show()\n"
   ]
  },
  {
   "cell_type": "code",
   "execution_count": null,
   "metadata": {},
   "outputs": [],
   "source": []
  }
 ],
 "metadata": {
  "kernelspec": {
   "display_name": "New_base_question",
   "language": "python",
   "name": "python3"
  },
  "language_info": {
   "codemirror_mode": {
    "name": "ipython",
    "version": 3
   },
   "file_extension": ".py",
   "mimetype": "text/x-python",
   "name": "python",
   "nbconvert_exporter": "python",
   "pygments_lexer": "ipython3",
   "version": "3.9.17"
  }
 },
 "nbformat": 4,
 "nbformat_minor": 2
}
