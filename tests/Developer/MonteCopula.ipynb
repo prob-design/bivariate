{
 "cells": [
  {
   "cell_type": "code",
   "execution_count": null,
   "metadata": {},
   "outputs": [],
   "source": [
    "\n",
    "### Create borders on the little cirkels , instead of all the same color, dark outlines to point\n",
    "### Check how Benjamin did the fill/reason_fill or something\n",
    "### Maybe look into color scheme\n",
    "### Create contours on the plot, using sampling\n",
    "### Copulas mathematical description of depende between random variables \n",
    "### Can use hydraulic or structural dataset to see if emperical stuff works"
   ]
  },
  {
   "cell_type": "code",
   "execution_count": null,
   "metadata": {},
   "outputs": [],
   "source": [
    "# Import local classes\n",
    "import sys\n",
    "sys.path.append(r'../../src/')\n",
    "import bivariate.class_copula\n",
    "\n",
    "# Import standard libraries\n",
    "import pandas as pd\n",
    "import numpy as np\n",
    "import matplotlib.pyplot as plt\n",
    "import pyvinecopulib as cop\n",
    "import scipy.stats as st"
   ]
  },
  {
   "cell_type": "markdown",
   "metadata": {},
   "source": [
    "## Using Copula class for a Bivariate Distribution"
   ]
  },
  {
   "cell_type": "code",
   "execution_count": null,
   "metadata": {},
   "outputs": [],
   "source": [
    "# Create distributions for 2 random variables, X1 and X2\n",
    "X1 = st.norm(0,1)           # Normal distribution with mean 0 and standard deviation 1\n",
    "X2 = st.gumbel_r(0,1)       # Gumbel distribution with location 0 and scale 1\n",
    "\n",
    "\n",
    "# Create a copula object\n",
    "Copula_12 = cop.Bicop(family=cop.BicopFamily.gaussian, parameters = [0.6])\n"
   ]
  },
  {
   "cell_type": "code",
   "execution_count": null,
   "metadata": {},
   "outputs": [],
   "source": [
    "# Define a bivariate copula object\n",
    "bivariate_copula_object = bivariate.class_copula.Bivariate([X1,X2], Copula_12)"
   ]
  },
  {
   "cell_type": "code",
   "execution_count": null,
   "metadata": {},
   "outputs": [],
   "source": [
    "# Generate random samples from the bivariate copula object\n",
    "gen_random_samples = bivariate_copula_object.random_samples(10000)"
   ]
  },
  {
   "cell_type": "code",
   "execution_count": null,
   "metadata": {},
   "outputs": [],
   "source": [
    "# Plot a 2D histogram of the random samples\n",
    "bivariate_copula_object.plot_histogram_2D();"
   ]
  },
  {
   "cell_type": "code",
   "execution_count": null,
   "metadata": {},
   "outputs": [],
   "source": [
    "# Plot the random samples\n",
    "bivariate_copula_object.plot_random_samples();"
   ]
  },
  {
   "cell_type": "markdown",
   "metadata": {},
   "source": [
    "## 2. Region of interest defined by a function"
   ]
  },
  {
   "cell_type": "markdown",
   "metadata": {},
   "source": [
    "#### Arbitrary function"
   ]
  },
  {
   "cell_type": "code",
   "execution_count": null,
   "metadata": {},
   "outputs": [],
   "source": [
    "# Create a function\n",
    "def arbitrary_function(X1,X2):\n",
    "    function = (X1**2 + X2-3 <= 0)\n",
    "    return function\n",
    "\n",
    "# Define a 2D region of interest object and insert the random samples and the function\n",
    "region_2 = bivariate.class_copula.Region_of_interest(function=arbitrary_function ,random_samples=gen_random_samples)\n",
    "\n",
    "\n",
    "# Run the function needed to check if the points are inside the region of interest\n",
    "region_2.inside_function()\n",
    "\n",
    "# Plot the emperical contours of the random samples\n",
    "region_2.plot_emperical_contours(xy_lim=[-5, 7.5, -2.5, 10])\n",
    "\n",
    "# Plot the points inside the region of interest\n",
    "region_2.plot_inside_function(xy_lim=[-5, 7.5, -2.5, 10]);"
   ]
  },
  {
   "cell_type": "markdown",
   "metadata": {},
   "source": [
    "#### Rectangular region"
   ]
  },
  {
   "cell_type": "code",
   "execution_count": null,
   "metadata": {},
   "outputs": [],
   "source": [
    "# Define a rectangular region of interest\n",
    "def points_inside_rectangle(X1, X2):\n",
    "    func = (1 <= X1) & (X1 <= 5) & (2 <= X2)  &  (X2 <= 6)\n",
    "    return  func\n",
    "\n",
    "# Define a 2D region of interest object and insert the random samples and the function\n",
    "region_2 = bivariate.class_copula.Region_of_interest(function=points_inside_rectangle , random_samples=gen_random_samples)\n",
    "\n",
    "# Run the function needed to check if the points are inside the region of interest\n",
    "region_2.inside_function()\n",
    "\n",
    "# Plot the emperical contours of the random samples\n",
    "region_2.plot_emperical_contours(xy_lim=[-5, 7.5, -2.5, 10])\n",
    "\n",
    "# Plot the points inside the region of interest\n",
    "region_2.plot_inside_function(xy_lim=[-5, 7.5, -2.5, 10]);"
   ]
  },
  {
   "cell_type": "markdown",
   "metadata": {},
   "source": [
    "#### Triangle"
   ]
  },
  {
   "cell_type": "code",
   "execution_count": null,
   "metadata": {},
   "outputs": [],
   "source": [
    "# Define a triangular region of interest\n",
    "def points_inside_triangle(X1, X2):\n",
    "    func = (X2 <= X1) & (X2 <= 5-X1)\n",
    "    return  func\n",
    "\n",
    "# Define a 2D region of interest object and insert the random samples and the function\n",
    "region_2 = bivariate.class_copula.Region_of_interest(function=points_inside_triangle, random_samples=gen_random_samples)\n",
    "\n",
    "# Run the function needed to check if the points are inside the region of interest\n",
    "region_2.inside_function()\n",
    "\n",
    "# Plot the emperical contours of the random samples\n",
    "region_2.plot_emperical_contours(xy_lim=[-5, 7.5, -2.5, 10])\n",
    "\n",
    "# Plot the points inside the region of interest\n",
    "region_2.plot_inside_function(xy_lim=[-5, 7.5, -2.5, 10]);"
   ]
  },
  {
   "cell_type": "markdown",
   "metadata": {},
   "source": [
    "# Multivariate distributions, also sampling with copulas"
   ]
  },
  {
   "cell_type": "code",
   "execution_count": null,
   "metadata": {},
   "outputs": [],
   "source": [
    "# Create distributions for 3 random variables, X1, X2, X3\n",
    "X1 = st.norm(0,1)           # Normal distribution with mean 0 and standard deviation 1\n",
    "X2 = st.gumbel_r(0,1)       # Gumbel distribution with location 0 and scale 1\n",
    "X3 = st.uniform(0,1)        # Uniform distribution between 0 and 1\n",
    "\n",
    "# Create the copula objects\n",
    "Copula_12 = cop.Bicop(family=cop.BicopFamily.gaussian, parameters = [0.7])\n",
    "Copulal_23 = cop.Bicop(family=cop.BicopFamily.gaussian, parameters = [0.5])\n",
    "\n",
    "# Define conditional copula object\n",
    "Cond_Copula_13_2 = cop.Bicop(family=cop.BicopFamily.gaussian, parameters = [0.8])"
   ]
  },
  {
   "cell_type": "code",
   "execution_count": null,
   "metadata": {},
   "outputs": [],
   "source": [
    "# Define the Multivariate object\n",
    "multi_object = bivariate.class_copula.Multivariate(rv_array=[X1,X2,X3],\n",
    "                                                   copulas_array=[Copula_12, Copulal_23],\n",
    "                                                   conditional_copulas=[Cond_Copula_13_2])"
   ]
  },
  {
   "cell_type": "code",
   "execution_count": null,
   "metadata": {},
   "outputs": [],
   "source": [
    "# Generate random samples from the multivariate object\n",
    "gen_random_samples_multi = multi_object.random_samples_3D(10000)\n",
    "\n",
    "# Plot the random samples\n",
    "multi_object.plot_random_samples_3D(xyz_lim=[-5, 5, -2, 10, 0, 1]);"
   ]
  },
  {
   "cell_type": "markdown",
   "metadata": {},
   "source": [
    "## Defining regions of interest for a 3D case"
   ]
  },
  {
   "cell_type": "code",
   "execution_count": null,
   "metadata": {},
   "outputs": [],
   "source": [
    "# Define a function\n",
    "def boundary_function(X1, X2, X3):\n",
    "    func = (1 <= X1) & (X1 <= 5) & (0.6 <= X3) \n",
    "    return func\n",
    "\n",
    "# Define a 3D region of interest object and insert the random samples and the function\n",
    "region_3D = bivariate.class_copula.Region_of_interest_3D(function=boundary_function, random_samples=gen_random_samples_multi)\n",
    "\n",
    "# Check if the points are inside the region of interest\n",
    "region_3D.inside_function_3d()\n",
    "\n",
    "# Plot the all the points and the ones inside the region of interest\n",
    "region_3D.plot_inside_function_3d(xyz_lim=[-5, 5, -4, 10, 0, 1]); "
   ]
  },
  {
   "cell_type": "code",
   "execution_count": null,
   "metadata": {},
   "outputs": [],
   "source": []
  },
  {
   "cell_type": "code",
   "execution_count": null,
   "metadata": {},
   "outputs": [],
   "source": []
  }
 ],
 "metadata": {
  "kernelspec": {
   "display_name": "New_base_question",
   "language": "python",
   "name": "python3"
  },
  "language_info": {
   "codemirror_mode": {
    "name": "ipython",
    "version": 3
   },
   "file_extension": ".py",
   "mimetype": "text/x-python",
   "name": "python",
   "nbconvert_exporter": "python",
   "pygments_lexer": "ipython3",
   "version": "3.9.17"
  }
 },
 "nbformat": 4,
 "nbformat_minor": 2
}
