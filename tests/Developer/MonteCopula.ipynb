{
 "cells": [
  {
   "cell_type": "code",
   "execution_count": null,
   "metadata": {},
   "outputs": [],
   "source": [
    "# Import local classes\n",
    "import sys\n",
    "sys.path.append(r'../../src/')\n",
    "import bivariate.class_copula\n",
    "\n",
    "# Import standard libraries\n",
    "import pandas as pd\n",
    "import numpy as np\n",
    "import matplotlib.pyplot as plt\n",
    "import pyvinecopulib as cop\n",
    "import scipy.stats as st\n",
    "\n"
   ]
  },
  {
   "cell_type": "markdown",
   "metadata": {},
   "source": [
    "## Using Copula class for a Bivariate Distribution"
   ]
  },
  {
   "cell_type": "code",
   "execution_count": null,
   "metadata": {},
   "outputs": [],
   "source": [
    "# Create distributions for 2 random variables, X1 and X2\n",
    "X1 = st.norm(0,1)           # Normal distribution with mean 0 and standard deviation 1\n",
    "X2 = st.gumbel_r(0,1)       # Gumbel distribution with location 0 and scale 1\n",
    "\n",
    "# Create a copula object\n",
    "Copula_12 = cop.Bicop(family=cop.BicopFamily.gaussian, parameters = [0.7])\n"
   ]
  },
  {
   "cell_type": "code",
   "execution_count": null,
   "metadata": {},
   "outputs": [],
   "source": [
    "# Define a bivariate copula object\n",
    "bivariate_copula_object = bivariate.class_copula.Bivariate([X1,X2], Copula_12)"
   ]
  },
  {
   "cell_type": "code",
   "execution_count": null,
   "metadata": {},
   "outputs": [],
   "source": [
    "# Generate random samples from the bivariate copula object\n",
    "gen_random_samples = bivariate_copula_object.random_samples(100000)"
   ]
  },
  {
   "cell_type": "code",
   "execution_count": null,
   "metadata": {},
   "outputs": [],
   "source": [
    "# Plot the random samples\n",
    "bivariate_copula_object.plot_random_samples();"
   ]
  },
  {
   "cell_type": "markdown",
   "metadata": {},
   "source": [
    "## 2. Region of interest defined by a function"
   ]
  },
  {
   "cell_type": "markdown",
   "metadata": {},
   "source": [
    "#### Arbitrary function"
   ]
  },
  {
   "cell_type": "code",
   "execution_count": null,
   "metadata": {},
   "outputs": [],
   "source": [
    "# Create a function\n",
    "def func(X1,X2):\n",
    "    function = X1**2 + X2-3 \n",
    "    return function\n",
    "\n",
    "# Define a 2D region of interest object and insert the random samples and the function\n",
    "region_2 = bivariate.class_copula.Region_of_interest(function=func ,random_samples=gen_random_samples)\n",
    "\n",
    "\n",
    "# Run the function needed to check if the points are inside the region of interest\n",
    "region_2.inside_function()\n",
    "\n",
    "# Plot the points inside the region of interest\n",
    "region_2.plot_inside_function(xy_lim=[-5, 7.5, -2.5, 10]);"
   ]
  },
  {
   "cell_type": "markdown",
   "metadata": {},
   "source": [
    "#### Rectangular region"
   ]
  },
  {
   "cell_type": "code",
   "execution_count": null,
   "metadata": {},
   "outputs": [],
   "source": [
    "# Define a rectangular region of interest\n",
    "def points_inside_rectangle(X1, X2):\n",
    "    import numpy as np\n",
    "    min_X1 = 1\n",
    "    max_X1 = 5\n",
    "    min_X2 = 2\n",
    "    max_X2 = 6\n",
    "    # Since this function returns True for points inside the square, we need to invert the list\n",
    "    inverted_list = (min_X1 <= X1) & (X1 <= max_X1) & (min_X2 <= X2)  &  (X2 <= max_X2)\n",
    "    return  np.logical_not(inverted_list)\n",
    "\n",
    "# Define a 2D region of interest object and insert the random samples and the function\n",
    "region_2 = bivariate.class_copula.Region_of_interest(function=points_inside_rectangle , random_samples=gen_random_samples)\n",
    "\n",
    "# Run the function needed to check if the points are inside the region of interest\n",
    "region_2.inside_function()\n",
    "\n",
    "# Plot the points inside the region of interest\n",
    "region_2.plot_inside_function(xy_lim=[-5, 7.5, -2.5, 10]);"
   ]
  },
  {
   "cell_type": "markdown",
   "metadata": {},
   "source": [
    "#### Triangle"
   ]
  },
  {
   "cell_type": "code",
   "execution_count": null,
   "metadata": {},
   "outputs": [],
   "source": [
    "# Define a triangular region of interest\n",
    "def points_inside_triangle(X1, X2):\n",
    "    # Since this function returns True for points inside the square, we need to invert the list\n",
    "    inverted_list = (X2 <= X1) & (X2 <= 5-X1)\n",
    "    return  np.logical_not(inverted_list)\n",
    "\n",
    "# Define a 2D region of interest object and insert the random samples and the function\n",
    "region_2 = bivariate.class_copula.Region_of_interest(function=points_inside_triangle, random_samples=gen_random_samples)\n",
    "\n",
    "# Run the function needed to check if the points are inside the region of interest\n",
    "region_2.inside_function()\n",
    "\n",
    "# Plot the points inside the region of interest\n",
    "region_2.plot_inside_function(xy_lim=[-5, 7.5, -2.5, 10]);"
   ]
  },
  {
   "cell_type": "code",
   "execution_count": null,
   "metadata": {},
   "outputs": [],
   "source": []
  },
  {
   "cell_type": "code",
   "execution_count": null,
   "metadata": {},
   "outputs": [],
   "source": []
  }
 ],
 "metadata": {
  "kernelspec": {
   "display_name": "New_base_question",
   "language": "python",
   "name": "python3"
  },
  "language_info": {
   "codemirror_mode": {
    "name": "ipython",
    "version": 3
   },
   "file_extension": ".py",
   "mimetype": "text/x-python",
   "name": "python",
   "nbconvert_exporter": "python",
   "pygments_lexer": "ipython3",
   "version": "3.9.17"
  }
 },
 "nbformat": 4,
 "nbformat_minor": 2
}
