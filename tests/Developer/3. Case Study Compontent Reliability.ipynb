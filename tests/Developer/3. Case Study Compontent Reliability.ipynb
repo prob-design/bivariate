{
 "cells": [
  {
   "cell_type": "markdown",
   "metadata": {},
   "source": [
    "<figure>\n",
    "  <IMG SRC=\"https://raw.githubusercontent.com/mbakker7/exploratory_computing_with_python/master/tudelft_logo.png\" WIDTH=25% ALIGN=\"right\">\n",
    "</figure>\n",
    "\n",
    "<p><div> \n",
    "<br><b>Probabilistic Design</b>\n",
    "<br><b>CEGM2XXX</b>\n",
    "<br> <i>This course is given at the faculty of Civil Engineering and Geosciences at the Technical University of Delft</i>\n",
    "<br><b>Teaching team:</b>\n",
    "<br><i>- Dr. Ir. R.C.Lanzafame </i>\n",
    "<br><i>- Dr. P.M. Nasarre</i>\n",
    "</div>\n",
    "<br>\n",
    "<br><b>Notebooks created by teaching assistant:</b>\n",
    "<br><i>- Siemen Algra</i>\n",
    "</div>"
   ]
  },
  {
   "attachments": {},
   "cell_type": "markdown",
   "metadata": {},
   "source": [
    "### Case study: Component Reliability Analysis\n",
    "#### Floating and submerged tunnel, crossing the strait of Gibraltar"
   ]
  },
  {
   "cell_type": "code",
   "execution_count": 1,
   "metadata": {},
   "outputs": [],
   "source": [
    "import numpy as np\n",
    "import matplotlib.pyplot as plt\n",
    "import matplotlib.cm as cm\n",
    "from scipy.optimize import fsolve # for plotting the LSF\n",
    "\n",
    "import openturns as ot\n",
    "import openturns.viewer as viewer\n",
    "ot.Log.Show(ot.Log.NONE)\n",
    "\n",
    "import numpy as np\n",
    "import scipy.linalg as scp\n",
    "import matplotlib.pylab as plt\n",
    "import time\n",
    "\n",
    "import sympy as sp\n",
    "import scipy\n",
    "\n",
    "from matplotlib.pylab import rcParams\n",
    "rcParams['figure.figsize'] = 15, 6\n",
    "\n",
    "\n"
   ]
  },
  {
   "cell_type": "markdown",
   "metadata": {},
   "source": [
    "### 1. Load FEM model in"
   ]
  },
  {
   "cell_type": "code",
   "execution_count": 2,
   "metadata": {},
   "outputs": [],
   "source": [
    "# Import local classes\n",
    "import sys\n",
    "sys.path.append(r'../../src/')\n",
    "\n",
    "# Obtain function that calculates the stress\n",
    "from component_reliability.Case_Study_Compontent_Reliability_Tools import calculate_stress_FEM\n",
    "# Function takes external forces as input and returns the stress"
   ]
  },
  {
   "cell_type": "markdown",
   "metadata": {},
   "source": [
    "### 2. Determine statistical properties of Random Variables"
   ]
  },
  {
   "cell_type": "code",
   "execution_count": 3,
   "metadata": {},
   "outputs": [],
   "source": [
    "# Determine the random variables \n",
    "X1 = ot.Exponential(2.0309)   # Significant wave height, swell waves\n",
    "X2 = ot.Exponential(2.0663)   # Significant wave height, wind sea waves\n",
    "X3 = ot.Normal(2, 0.2)        # Velocity of current"
   ]
  },
  {
   "cell_type": "markdown",
   "metadata": {},
   "source": [
    "### 3. Define external forces depending on the random variables\n",
    "Using the **Morison equation**"
   ]
  },
  {
   "cell_type": "code",
   "execution_count": 4,
   "metadata": {},
   "outputs": [],
   "source": [
    "def F_morison_swell_current(significant_wave_height_swell, U_current_veloctiy):\n",
    "    # General properties\n",
    "    rhoW = 1025                                                 # kg/m^3\n",
    "    D = np.sqrt(38/np.pi)*2                                     # diameter of cylinder\n",
    "    depth = 30                                                  # depth of water\n",
    "\n",
    "    # Swell Wave properties\n",
    "    Tp = 12\n",
    "    Omega = 2*np.pi/Tp\n",
    "    L = 9.81*Tp**2/(2*np.pi)\n",
    "    k = 2*np.pi/L\n",
    "    Amplitude = significant_wave_height_swell/2                 # wave amplitude\n",
    "\n",
    "    \n",
    "    # Water velocity\n",
    "    cos_func = 1 #np.cos(omega*t-k*x)\n",
    "    u_swell =  Amplitude*Omega*np.exp(-k*depth)*cos_func\n",
    "    \n",
    "    # Intertia force\n",
    "    CM = 1+((9.2/2) / (20.8/2))                                 # added mass coefficient\n",
    "    F_inertia_swell =  (np.pi*rhoW*CM*D**2)/4 * (u_swell)\n",
    "    \n",
    "    # Drag force\n",
    "    CD = 0.13 # drag coefficient\n",
    "    F_drag_swell = 0.5*rhoW*CD*D*(u_swell+U_current_veloctiy)**2\n",
    "    \n",
    "    F_combined_swell_current = np.sqrt(F_inertia_swell**2 + F_drag_swell**2)\n",
    "    \n",
    "    return F_combined_swell_current\n"
   ]
  },
  {
   "cell_type": "code",
   "execution_count": 5,
   "metadata": {},
   "outputs": [],
   "source": [
    "def F_morison_wind(significant_wave_height_windsea):\n",
    "    # General properties\n",
    "    rhoW = 1025                                                 # kg/m^3\n",
    "    D = np.sqrt(38/np.pi)*2                                     # diameter of cylinder\n",
    "    depth = 30                                                  # depth of water\n",
    "\n",
    "    # Wind sea Wave properties\n",
    "    Tp = 12\n",
    "    Omega = 2*np.pi/Tp\n",
    "    L = 9.81*Tp**2/(2*np.pi)\n",
    "    k = 2*np.pi/L\n",
    "    Amplitude = significant_wave_height_windsea/2                 # wave amplitude\n",
    "\n",
    "    \n",
    "    # Water velocity\n",
    "    cos_func = 1 #np.cos(omega*t-k*x)\n",
    "    u_wind =  Amplitude*Omega*np.exp(-k*depth)*cos_func\n",
    "    \n",
    "    # Intertia force\n",
    "    CM = 1+((9.2/2) / (20.8/2))                                 # added mass coefficient\n",
    "    F_inertia_wind =  (np.pi*rhoW*CM*D**2)/4 * (u_wind)\n",
    "    \n",
    "    # Drag force\n",
    "    CD = 0.13 # drag coefficient\n",
    "    F_drag_wind = 0.5*rhoW*CD*D*(u_wind)**2\n",
    "    \n",
    "    F_combined_wind = np.sqrt(F_inertia_wind**2 + F_drag_wind**2)\n",
    "    \n",
    "    return F_combined_wind"
   ]
  },
  {
   "cell_type": "markdown",
   "metadata": {},
   "source": [
    "### 4. Define function to calculate total stress"
   ]
  },
  {
   "cell_type": "code",
   "execution_count": 6,
   "metadata": {},
   "outputs": [],
   "source": [
    "def total_stress(significant_wave_height_swell, significant_wave_height_windsea, U_current_velocity):\n",
    "    \n",
    "    # Calculate stress using FEM\n",
    "    sigma_wind = calculate_stress_FEM(F_morison_wind(significant_wave_height_windsea))\n",
    "    sigma_swell = calculate_stress_FEM(F_morison_swell_current(significant_wave_height_swell, U_current_velocity))\n",
    "    \n",
    "    # Total stress\n",
    "    sigma = sigma_wind + sigma_swell \n",
    "    return sigma   "
   ]
  },
  {
   "cell_type": "markdown",
   "metadata": {},
   "source": [
    "### 5. Determine Limit State Function"
   ]
  },
  {
   "cell_type": "code",
   "execution_count": 7,
   "metadata": {},
   "outputs": [],
   "source": [
    "# Determine myLSF\n",
    "def myLSF(x):\n",
    "    ''' \n",
    "    Vectorized limit-state function.\n",
    "\n",
    "    Arguments:\n",
    "    x: vector. x=[X1, X2, X3]. \n",
    "    '''\n",
    "    \n",
    "    \n",
    "    # Maximum stress in concrete\n",
    "    sigma_max = 75\n",
    "    g = [sigma_max - np.max(np.abs(total_stress(x[0], x[1], x[2])))]\n",
    "    return g"
   ]
  },
  {
   "cell_type": "markdown",
   "metadata": {},
   "source": [
    "### 6. Run Monte Carlo Simulation and FORM analysis\n",
    "*Depending on the monte carlo sample size, can take quite some time to run (hours)*"
   ]
  },
  {
   "cell_type": "code",
   "execution_count": 8,
   "metadata": {},
   "outputs": [],
   "source": [
    "from component_reliability.Case_Study_Compontent_Reliability_Tools import run_FORM_and_MCS\n",
    "from component_reliability.Case_Study_Compontent_Reliability_Tools import run_FORM_and_MCS_part2"
   ]
  },
  {
   "cell_type": "code",
   "execution_count": 9,
   "metadata": {},
   "outputs": [
    {
     "name": "stdout",
     "output_type": "stream",
     "text": [
      "FORM result, pf = 0.1847\n",
      "FORM result, beta = 0.897\n",
      "\n",
      "The design point in the u space:  [0.594081,0.672079,0.0294709]\n",
      "The design point in the x space:  [0.633476,0.669425,2.00589]\n",
      "pf for MCS:  0.3\n",
      "\n",
      "\n",
      "The importance factors [windsea : 0.438158, swell : 0.560763, u_current : 0.00107826]\n"
     ]
    }
   ],
   "source": [
    "run_FORM_and_MCS(X1, X2, X3, myLSF, mc_size = 10)"
   ]
  },
  {
   "cell_type": "code",
   "execution_count": 10,
   "metadata": {},
   "outputs": [
    {
     "name": "stdout",
     "output_type": "stream",
     "text": [
      "---------------Running part 2 of FORM and MCS-------------------\n",
      "The importance factors as defined in the textbook are:  [0.661935,0.748841,0.0328369]\n",
      "The sensitivity factors of the reliability index with regards to the distribution parameters are:\n",
      "\n",
      "[lambda_marginal_0 : 0.346363, gamma_marginal_0 : -1.11043]\n",
      "[lambda_marginal_1 : 0.394951, gamma_marginal_1 : -1.21909]\n",
      "[mu_0_marginal_2 : -0.164268, sigma_0_marginal_2 : -0.00484113]\n",
      "[R_2_1_copula : 0, R_3_1_copula : 0, R_3_2_copula : 0]\n"
     ]
    }
   ],
   "source": [
    "run_FORM_and_MCS_part2()"
   ]
  }
 ],
 "metadata": {
  "kernelspec": {
   "display_name": "base",
   "language": "python",
   "name": "python3"
  },
  "language_info": {
   "codemirror_mode": {
    "name": "ipython",
    "version": 3
   },
   "file_extension": ".py",
   "mimetype": "text/x-python",
   "name": "python",
   "nbconvert_exporter": "python",
   "pygments_lexer": "ipython3",
   "version": "3.9.17"
  },
  "orig_nbformat": 4
 },
 "nbformat": 4,
 "nbformat_minor": 2
}
