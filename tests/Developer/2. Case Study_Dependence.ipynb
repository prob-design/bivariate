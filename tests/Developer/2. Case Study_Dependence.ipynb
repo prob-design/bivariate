{
 "cells": [
  {
   "cell_type": "markdown",
   "metadata": {},
   "source": [
    "<figure>\n",
    "  <IMG SRC=\"https://raw.githubusercontent.com/mbakker7/exploratory_computing_with_python/master/tudelft_logo.png\" WIDTH=25% ALIGN=\"right\">\n",
    "</figure>\n",
    "\n",
    "<p><div> \n",
    "<br><b>Probabilistic Design</b>\n",
    "<br><b>CEGM2XXX</b>\n",
    "<br> <i>This course is given at the faculty of Civil Engineering and Geosciences at the Technical University of Delft</i>\n",
    "<br><b>Teaching team:</b>\n",
    "<br><i>- Dr. Ir. R.C.Lanzafame </i>\n",
    "<br><i>- Dr. P.M. Nasarre</i>\n",
    "</div>\n",
    "<br>\n",
    "<br><b>Notebooks created by teaching assistants:</b>\n",
    "<br><i>- Siemen Algra</i>\n",
    "</div>\n"
   ]
  },
  {
   "cell_type": "markdown",
   "metadata": {},
   "source": [
    "<h2 style=\"color:#00BFFF;\">Case study: Dependency</h2>\n",
    "\n",
    "### Introduction:  \n",
    "*-----------------------*"
   ]
  },
  {
   "cell_type": "code",
   "execution_count": null,
   "metadata": {},
   "outputs": [],
   "source": [
    "# Import local classes\n",
    "import sys\n",
    "sys.path.append(r'../../src/')\n",
    "import bivariate.class_copula\n",
    "\n",
    "# Import standard libraries\n",
    "import pandas as pd\n",
    "import numpy as np\n",
    "import matplotlib.pyplot as plt\n",
    "import pyvinecopulib as cop\n",
    "import scipy.stats as st"
   ]
  },
  {
   "cell_type": "markdown",
   "metadata": {},
   "source": [
    "<h2 style=\"color:#00BFFF;\">Case A</h2>\n",
    "- 2 lognormal distributed random variables\n"
   ]
  },
  {
   "cell_type": "markdown",
   "metadata": {},
   "source": [
    "##### A.1. Define statistical properties of the random variables"
   ]
  },
  {
   "cell_type": "code",
   "execution_count": null,
   "metadata": {},
   "outputs": [],
   "source": [
    "# Define distributions\n",
    "s = 0.198\n",
    "loc = 0.000\n",
    "scale = 98.058\n",
    "Q_1 = st.lognorm(s=s, loc=loc, scale=scale)   # Random Variable Q_1, lognormal distribution\n",
    "Q_2 = st.lognorm(s=s, loc=loc, scale=scale)   # Random Variable Q_2, lognormal distribution"
   ]
  },
  {
   "cell_type": "markdown",
   "metadata": {},
   "source": [
    "##### A.2. Sample events from the random variables"
   ]
  },
  {
   "cell_type": "code",
   "execution_count": null,
   "metadata": {},
   "outputs": [],
   "source": [
    "# Generate random samples\n",
    "n = 10000 # Number of samples\n",
    "\n",
    "Q_1_samples = Q_1.rvs(size=n)    # Generate n samples from scipy instance Q_1, defined in cell above\n",
    "Q_2_samples = Q_2.rvs(size=n)    # Generate n samples from scipy instance Q_2, defined in cell above\n",
    "\n",
    "# Combine marginal sample lists into a combined list\n",
    "Q_combined_samples = np.array([Q_1_samples, Q_2_samples]).T"
   ]
  },
  {
   "cell_type": "markdown",
   "metadata": {},
   "source": [
    "##### A.3. Assign sampled events to Region of Interest class"
   ]
  },
  {
   "cell_type": "code",
   "execution_count": null,
   "metadata": {},
   "outputs": [],
   "source": [
    "# Create an instance of the Region_of_interest class, by assigning the combined samples as an attribute\n",
    "# This allows to perform operation, such as plotting\n",
    "Q_class_A = bivariate.class_copula.Region_of_interest(random_samples=Q_combined_samples)"
   ]
  },
  {
   "cell_type": "code",
   "execution_count": null,
   "metadata": {},
   "outputs": [],
   "source": [
    "# Plot the emperical contours of the random samples\n",
    "Q_class_A.plot_emperical_contours(bandwidth=4)"
   ]
  },
  {
   "cell_type": "markdown",
   "metadata": {},
   "source": [
    "##### A.4. Define function for the region of interest"
   ]
  },
  {
   "cell_type": "code",
   "execution_count": null,
   "metadata": {},
   "outputs": [],
   "source": [
    "# Define reliability analysis function\n",
    "def maximum_discharge_function(X1,X2):\n",
    "    Q_max = 275.0\n",
    "    function = (X1 + X2 - Q_max >= 0)\n",
    "    return function"
   ]
  },
  {
   "cell_type": "code",
   "execution_count": null,
   "metadata": {},
   "outputs": [],
   "source": [
    "# Assign the function to the class instance\n",
    "Q_class_A.function =  maximum_discharge_function"
   ]
  },
  {
   "cell_type": "markdown",
   "metadata": {},
   "source": [
    "##### A.5. Perform reliability analysis"
   ]
  },
  {
   "cell_type": "code",
   "execution_count": null,
   "metadata": {},
   "outputs": [],
   "source": [
    "# Run the function needed to check if the points are inside the region of interest\n",
    "Q_class_A.inside_function()\n",
    "\n",
    "# Plot the points inside the region of interest\n",
    "Q_class_A.plot_inside_function();"
   ]
  },
  {
   "cell_type": "markdown",
   "metadata": {},
   "source": [
    "<h2 style=\"color:#00BFFF;\">Case B</h2>\n",
    "- 2 normal distributed random variables\n"
   ]
  },
  {
   "cell_type": "markdown",
   "metadata": {},
   "source": [
    "##### B.1. Define statistical properties of the random variables"
   ]
  },
  {
   "cell_type": "code",
   "execution_count": null,
   "metadata": {},
   "outputs": [],
   "source": [
    "# Define distributions\n",
    "loc = 135\n",
    "scale = 20\n",
    "Q_1_B = st.norm(loc=loc, scale=scale)   # Random Variable Q_1_B, normal distribution\n",
    "Q_2_B = st.norm(loc=loc, scale=scale)   # Random Variable Q_2_B, normal distribution"
   ]
  },
  {
   "cell_type": "markdown",
   "metadata": {},
   "source": [
    "##### B.2. Sample events from the random variables"
   ]
  },
  {
   "cell_type": "code",
   "execution_count": null,
   "metadata": {},
   "outputs": [],
   "source": [
    "# Generate random samples\n",
    "Q_1_B_samples = Q_1_B.rvs(size=n)    # Generate n samples from scipy instance Q_1, defined in cell above\n",
    "Q_2_B_samples = Q_2_B.rvs(size=n)    # Generate n samples from scipy instance Q_2, defined in cell above\n",
    "\n",
    "# Combine marginal sample lists into a combined list\n",
    "Q_B_combined_samples = np.array([Q_1_B_samples, Q_2_B_samples]).T"
   ]
  },
  {
   "cell_type": "markdown",
   "metadata": {},
   "source": [
    "##### B.3. Assign sampled events to Region of Interest class"
   ]
  },
  {
   "cell_type": "code",
   "execution_count": null,
   "metadata": {},
   "outputs": [],
   "source": [
    "# Create an instance of the Region_of_interest class, by assigning the combined samples as an attribute\n",
    "# This allows to perform operation, such as plotting\n",
    "Q_class_B = bivariate.class_copula.Region_of_interest(random_samples=Q_B_combined_samples)"
   ]
  },
  {
   "cell_type": "code",
   "execution_count": null,
   "metadata": {},
   "outputs": [],
   "source": [
    "# Plot the emperical contours of the random samples\n",
    "Q_class_B.plot_emperical_contours(bandwidth=4)"
   ]
  },
  {
   "cell_type": "markdown",
   "metadata": {},
   "source": [
    "##### B.4. Assign function for the region of interest"
   ]
  },
  {
   "cell_type": "code",
   "execution_count": null,
   "metadata": {},
   "outputs": [],
   "source": [
    "# Assign the function to the class instance\n",
    "Q_class_B.function = maximum_discharge_function"
   ]
  },
  {
   "cell_type": "markdown",
   "metadata": {},
   "source": [
    "##### B.5. Perform reliability analysis"
   ]
  },
  {
   "cell_type": "code",
   "execution_count": null,
   "metadata": {},
   "outputs": [],
   "source": [
    "# Run the function needed to check if the points are inside the region of interest\n",
    "Q_class_B.inside_function()\n",
    "\n",
    "# Plot the points inside the region of interest\n",
    "Q_class_B.plot_inside_function();"
   ]
  },
  {
   "cell_type": "markdown",
   "metadata": {},
   "source": [
    "<h2 style=\"color:#00BFFF;\">Case C</h2>\n",
    "- Bivariate Gaussian distributed random variables\n"
   ]
  },
  {
   "cell_type": "markdown",
   "metadata": {},
   "source": [
    "##### C.1. Define statistical properties of the bivariate gaussian distribution"
   ]
  },
  {
   "cell_type": "code",
   "execution_count": null,
   "metadata": {},
   "outputs": [],
   "source": [
    "# Define distributions\n",
    "mean = [155, 125]                       # Mean of the distributions\n",
    "covariance = [[20, -1], [-1, 100]]   # Covariance matrix of the distributions\n",
    "\n",
    "Q_combined_C = st.multivariate_normal(mean=mean, cov=covariance)"
   ]
  },
  {
   "cell_type": "markdown",
   "metadata": {},
   "source": [
    "##### C.2. Sample events from the random variables"
   ]
  },
  {
   "cell_type": "code",
   "execution_count": null,
   "metadata": {},
   "outputs": [],
   "source": [
    "# Generate random samples\n",
    "Q_combined_C_samples = Q_combined_C.rvs(size=n)    # Generate n samples from scipy instance Q_combined_C, defined in cell above"
   ]
  },
  {
   "cell_type": "markdown",
   "metadata": {},
   "source": [
    "##### C.3. Assign sampled events to Region of Interest class"
   ]
  },
  {
   "cell_type": "code",
   "execution_count": null,
   "metadata": {},
   "outputs": [],
   "source": [
    "# Create an instance of the Region_of_interest class, by assigning the combined samples as an attribute\n",
    "# This allows to perform operation, such as plotting\n",
    "Q_class_C = bivariate.class_copula.Region_of_interest(random_samples=Q_combined_C_samples)"
   ]
  },
  {
   "cell_type": "code",
   "execution_count": null,
   "metadata": {},
   "outputs": [],
   "source": [
    "# Plot the emperical contours of the random samples\n",
    "Q_class_C.plot_emperical_contours(bandwidth=2)"
   ]
  },
  {
   "cell_type": "markdown",
   "metadata": {},
   "source": [
    "##### C.4. Assign function for the region of interest"
   ]
  },
  {
   "cell_type": "code",
   "execution_count": null,
   "metadata": {},
   "outputs": [],
   "source": [
    "# Assign the function to the class instance\n",
    "Q_class_C.function = maximum_discharge_function"
   ]
  },
  {
   "cell_type": "markdown",
   "metadata": {},
   "source": [
    "##### C.5. Perform reliability analysis"
   ]
  },
  {
   "cell_type": "code",
   "execution_count": null,
   "metadata": {},
   "outputs": [],
   "source": [
    "# Run the function needed to check if the points are inside the region of interest\n",
    "Q_class_C.inside_function()\n",
    "\n",
    "# Plot the points inside the region of interest\n",
    "Q_class_C.plot_inside_function();"
   ]
  },
  {
   "cell_type": "markdown",
   "metadata": {},
   "source": [
    "<h2 style=\"color:#00BFFF;\">Case D</h2>\n",
    "- Copula based dependency, Gaussian copula, with lognormal and gumbel marginal distributions\n"
   ]
  },
  {
   "cell_type": "markdown",
   "metadata": {},
   "source": [
    "##### D.1. Define statistical properties of the copula and the marginal distributions"
   ]
  },
  {
   "cell_type": "code",
   "execution_count": null,
   "metadata": {},
   "outputs": [],
   "source": [
    "# Create distributions for 2 random variables, Q_1 and Q_2\n",
    "s = 0.198\n",
    "loc = 0.000\n",
    "scale = 98.058\n",
    "\n",
    "Q_1_D = st.lognorm(s=s, loc=loc, scale=scale)      # Normal distribution with mean 0 and standard deviation 1\n",
    "Q_2_D = st.gumbel_l(loc=100, scale=15)      # Gumbel distribution with location 0 and scale 1\n",
    "\n",
    "\n",
    "# Create a copula object\n",
    "Copula_12 = cop.Bicop(family=cop.BicopFamily.gaussian, parameters = [0.6])"
   ]
  },
  {
   "cell_type": "markdown",
   "metadata": {},
   "source": [
    "For the copula another class is used, the `Copula` class. "
   ]
  },
  {
   "cell_type": "code",
   "execution_count": null,
   "metadata": {},
   "outputs": [],
   "source": [
    "# Define a bivariate copula object\n",
    "Q_combined_D_copula_object = bivariate.class_copula.Bivariate([Q_1_D,Q_2_D], Copula_12)"
   ]
  },
  {
   "cell_type": "markdown",
   "metadata": {},
   "source": [
    "##### D.2. Sample events from the Copula"
   ]
  },
  {
   "cell_type": "code",
   "execution_count": null,
   "metadata": {},
   "outputs": [],
   "source": [
    "# Generate random samples from the bivariate copula object\n",
    "Q_combined_D_samples = Q_combined_D_copula_object.random_samples(10000)"
   ]
  },
  {
   "cell_type": "markdown",
   "metadata": {},
   "source": [
    "##### D.3. Assign sampled events to Region of Interest class"
   ]
  },
  {
   "cell_type": "code",
   "execution_count": null,
   "metadata": {},
   "outputs": [],
   "source": [
    "# Assign the combined samples list to the Region_of_interest class\n",
    "# This allows to perform operation, such as plotting\n",
    "Q_class_D = bivariate.class_copula.Region_of_interest(random_samples=Q_combined_D_samples)"
   ]
  },
  {
   "cell_type": "code",
   "execution_count": null,
   "metadata": {},
   "outputs": [],
   "source": [
    "# Plot the emperical contours of the random samples\n",
    "Q_class_D.plot_emperical_contours(bandwidth=2)"
   ]
  },
  {
   "cell_type": "markdown",
   "metadata": {},
   "source": [
    "##### D.4. Assign function for the region of interest"
   ]
  },
  {
   "cell_type": "code",
   "execution_count": null,
   "metadata": {},
   "outputs": [],
   "source": [
    "# Assign the function to the class instance\n",
    "Q_class_D.function = maximum_discharge_function"
   ]
  },
  {
   "cell_type": "markdown",
   "metadata": {},
   "source": [
    "##### D.5. Perform reliability analysis"
   ]
  },
  {
   "cell_type": "code",
   "execution_count": null,
   "metadata": {},
   "outputs": [],
   "source": [
    "# Run the function needed to check if the points are inside the region of interest\n",
    "Q_class_D.inside_function()\n",
    "\n",
    "# Plot the points inside the region of interest\n",
    "Q_class_D.plot_inside_function();"
   ]
  },
  {
   "cell_type": "code",
   "execution_count": null,
   "metadata": {},
   "outputs": [],
   "source": []
  }
 ],
 "metadata": {
  "kernelspec": {
   "display_name": "New_base_question",
   "language": "python",
   "name": "python3"
  },
  "language_info": {
   "codemirror_mode": {
    "name": "ipython",
    "version": 3
   },
   "file_extension": ".py",
   "mimetype": "text/x-python",
   "name": "python",
   "nbconvert_exporter": "python",
   "pygments_lexer": "ipython3",
   "version": "3.9.17"
  }
 },
 "nbformat": 4,
 "nbformat_minor": 2
}
