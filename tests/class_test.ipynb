{
 "cells": [
  {
   "cell_type": "markdown",
   "metadata": {},
   "source": [
    "This is a demonstration on the new structure of the bivariate package. It now uses classes, so the way we interact with the package is a bit different. Note: as of this commit, only the files `data_setup.py` and `data_exploration.py` have been incorporated in the class.\n",
    "\n",
    "The idea is as follows: the user can create a `Dataset` object from a csv file, SURFdrive link, or a Pandas `DataFrame`. The `Datset` class contains the functionality of the original package (which was 'finished' June 2022), but all of the old functions are now methods of the new class. This cleans up the code quite a bit, since we don't have to pass the dataframe and column names to every funtion."
   ]
  },
  {
   "cell_type": "markdown",
   "metadata": {},
   "source": [
    "We can import the new class with just one line:"
   ]
  },
  {
   "cell_type": "code",
   "execution_count": null,
   "metadata": {},
   "outputs": [],
   "source": [
    "#from wget import download\n",
    "#download('https://gitlab.tudelft.nl/mude/bivariate_package/-/raw/main/dist/bivariate-2.0.0-py3-none-any.whl')\n",
    "#!pip install bivariate-2.0.0-py3-none-any.whl"
   ]
  },
  {
   "cell_type": "code",
   "execution_count": null,
   "metadata": {},
   "outputs": [],
   "source": [
    "from bivariate.class_dataset import Dataset"
   ]
  },
  {
   "cell_type": "markdown",
   "metadata": {},
   "source": [
    "In this demonstration, I've used the same file as the one in `Test_Climate.py`. It is a file from the SURFdrive. "
   ]
  },
  {
   "cell_type": "code",
   "execution_count": null,
   "metadata": {},
   "outputs": [],
   "source": [
    "test_folder = \"https://surfdrive.surf.nl/files/index.php/s/Wg6SWc38zn8jqVg\"\n",
    "test_path = \"subfolder01/subfolder02/Climate_Data_Washington_Metric.csv\"\n",
    "\n",
    "col_time = \"DATE_TIME\"\n",
    "col_names = [\"POWER\", \"CLOUD_BROKEN\"]\n",
    "#col_Labels not working yet in plots (see Issue #)\n",
    "col_labels = [\"Power\", \"Clouds\"]\n",
    "col_labels = [[\"Power consumption [units]\", \"Clouds, broken [units]\"], [\"Power\", \"Clouds\"]]\n",
    "col_labels = {\"long\":[\"Power consumption [units]\", \"Clouds, broken [units]\"], \"short\":[\"Power\", \"Clouds\"]}"
   ]
  },
  {
   "cell_type": "markdown",
   "metadata": {},
   "source": [
    "Regardless of the source file location, the column with the time stamps, `col_time`, must be specified, along with the column header names, `col_names`, representing the (two) variables to be used in the analysis. A string can be specified for the columns to be used in formatted applications (e.g., figure axes, summary tables) using the optional input `col_labels`. We can create a `Dataset` object directly from a SURFdrive link by using either the `from_surfdrive_path` or `from_surfdrive_file` classmethods:"
   ]
  },
  {
   "cell_type": "code",
   "execution_count": null,
   "metadata": {},
   "outputs": [],
   "source": [
    "d = Dataset.import_from_surfdrive_path(\n",
    "        test_folder, test_path, col_time, col_names, col_labels)"
   ]
  },
  {
   "cell_type": "code",
   "execution_count": null,
   "metadata": {},
   "outputs": [],
   "source": [
    "d._cols"
   ]
  },
  {
   "cell_type": "code",
   "execution_count": null,
   "metadata": {},
   "outputs": [],
   "source": [
    "d._col_labels"
   ]
  },
  {
   "cell_type": "code",
   "execution_count": null,
   "metadata": {},
   "outputs": [],
   "source": [
    "d.set_TUDstyle()"
   ]
  },
  {
   "cell_type": "markdown",
   "metadata": {},
   "source": [
    "The rest is really easy. For example we can clean the dataset:"
   ]
  },
  {
   "cell_type": "code",
   "execution_count": null,
   "metadata": {},
   "outputs": [],
   "source": [
    "d.clean_dataset()"
   ]
  },
  {
   "cell_type": "markdown",
   "metadata": {},
   "source": [
    "Make a time plot:"
   ]
  },
  {
   "cell_type": "code",
   "execution_count": null,
   "metadata": {},
   "outputs": [],
   "source": [
    "unused = d.time_plot()"
   ]
  },
  {
   "cell_type": "markdown",
   "metadata": {},
   "source": [
    "Get a summary of the data:"
   ]
  },
  {
   "cell_type": "code",
   "execution_count": null,
   "metadata": {},
   "outputs": [],
   "source": [
    "d.data_summary()"
   ]
  },
  {
   "cell_type": "markdown",
   "metadata": {},
   "source": [
    "Or make a histogram:"
   ]
  },
  {
   "cell_type": "code",
   "execution_count": null,
   "metadata": {},
   "outputs": [],
   "source": [
    "[unused, unused] = d.hist_plot()"
   ]
  },
  {
   "cell_type": "code",
   "execution_count": null,
   "metadata": {},
   "outputs": [],
   "source": [
    "d.plot_ecdf()"
   ]
  },
  {
   "cell_type": "code",
   "execution_count": null,
   "metadata": {},
   "outputs": [],
   "source": [
    "#d.fit_ev('POWER')"
   ]
  },
  {
   "cell_type": "code",
   "execution_count": null,
   "metadata": {},
   "outputs": [],
   "source": [
    "#d.create_ev(period='W')"
   ]
  },
  {
   "cell_type": "code",
   "execution_count": null,
   "metadata": {},
   "outputs": [],
   "source": [
    "#d.fit_ev(var='POWER')"
   ]
  },
  {
   "cell_type": "code",
   "execution_count": null,
   "metadata": {},
   "outputs": [],
   "source": [
    "#d.QQ_plot('POWER', 'normal')"
   ]
  },
  {
   "cell_type": "code",
   "execution_count": null,
   "metadata": {},
   "outputs": [],
   "source": [
    "#d.bivar_fit([\"POWER\", \"CLOUD_BROKEN\"])"
   ]
  },
  {
   "cell_type": "code",
   "execution_count": null,
   "metadata": {},
   "outputs": [],
   "source": [
    "d.fit_distribution()"
   ]
  },
  {
   "cell_type": "code",
   "execution_count": null,
   "metadata": {},
   "outputs": [],
   "source": [
    "d.results['POWER'].distributions"
   ]
  },
  {
   "cell_type": "code",
   "execution_count": null,
   "metadata": {},
   "outputs": [],
   "source": [
    "d.plot_fitted_distributions()"
   ]
  },
  {
   "cell_type": "code",
   "execution_count": null,
   "metadata": {},
   "outputs": [],
   "source": [
    "d.create_ev('W')"
   ]
  },
  {
   "cell_type": "code",
   "execution_count": null,
   "metadata": {},
   "outputs": [],
   "source": [
    "unused = d.fit_ev()\n",
    "d.plot_ev()"
   ]
  },
  {
   "cell_type": "code",
   "execution_count": null,
   "metadata": {},
   "outputs": [],
   "source": [
    "unused = d.QQ_plot()"
   ]
  },
  {
   "cell_type": "code",
   "execution_count": null,
   "metadata": {},
   "outputs": [],
   "source": [
    "d.bivar_fit()"
   ]
  },
  {
   "cell_type": "code",
   "execution_count": null,
   "metadata": {},
   "outputs": [],
   "source": [
    "d.bivar_plot()"
   ]
  },
  {
   "cell_type": "code",
   "execution_count": null,
   "metadata": {},
   "outputs": [],
   "source": [
    "# p_and, p_or = d.and_or_probabilities(col_names, [0.9, 0.9])\n",
    "p_and, p_or = d.plot_and_or_probabilities([0.9, 0.9], plot=True)"
   ]
  },
  {
   "cell_type": "code",
   "execution_count": null,
   "metadata": {},
   "outputs": [],
   "source": []
  }
 ],
 "metadata": {
  "kernelspec": {
   "display_name": "Python 3 (ipykernel)",
   "language": "python",
   "name": "python3"
  },
  "language_info": {
   "codemirror_mode": {
    "name": "ipython",
    "version": 3
   },
   "file_extension": ".py",
   "mimetype": "text/x-python",
   "name": "python",
   "nbconvert_exporter": "python",
   "pygments_lexer": "ipython3",
   "version": "3.9.12"
  },
  "vscode": {
   "interpreter": {
    "hash": "8b2d75f0c7ec7670707b262010d0596a86296e6b9981cd7bf290abba467468fd"
   }
  }
 },
 "nbformat": 4,
 "nbformat_minor": 4
}
